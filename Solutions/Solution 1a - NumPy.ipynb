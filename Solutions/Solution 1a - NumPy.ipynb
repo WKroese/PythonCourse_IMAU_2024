{
 "cells": [
  {
   "cell_type": "markdown",
   "metadata": {},
   "source": [
    "## <span style=\"color:green\">(possible) Solutions</span>"
   ]
  },
  {
   "cell_type": "code",
   "execution_count": 2,
   "metadata": {},
   "outputs": [],
   "source": [
    "import numpy as np"
   ]
  },
  {
   "cell_type": "code",
   "execution_count": 3,
   "metadata": {},
   "outputs": [
    {
     "name": "stdout",
     "output_type": "stream",
     "text": [
      "(3, 10)\n",
      "[[0. 0. 0. 0. 0. 0. 0. 0. 0. 0.]\n",
      " [1. 1. 1. 1. 1. 1. 1. 1. 1. 1.]\n",
      " [5. 5. 5. 5. 5. 5. 5. 5. 5. 5.]]\n"
     ]
    },
    {
     "data": {
      "text/plain": [
       "array([6., 6., 6., 6., 6., 6., 6., 6., 6., 6.])"
      ]
     },
     "execution_count": 3,
     "metadata": {},
     "output_type": "execute_result"
    }
   ],
   "source": [
    "# 1. Write a NumPy program to create an array of 10 zeros, 10 ones, 10 fives.\n",
    "# Subsequently create a 3x10 array from them.\n",
    "# Ultimately compute the sum column-wise (over axis 0).\n",
    "x_0 = np.zeros(10)\n",
    "x_1 = np.ones(10)\n",
    "x_5 = x_1*5\n",
    "\n",
    "combined = np.array([x_0,x_1,x_5])\n",
    "print(combined.shape)\n",
    "print(combined)\n",
    "sum_column = combined.sum(axis=0)\n",
    "sum_column"
   ]
  },
  {
   "cell_type": "code",
   "execution_count": 4,
   "metadata": {},
   "outputs": [
    {
     "data": {
      "text/plain": [
       "array([2.50000000e+01, 1.82561983e+01, 1.25702479e+01, 7.94214876e+00,\n",
       "       4.37190083e+00, 1.85950413e+00, 4.04958678e-01, 8.26446281e-03,\n",
       "       6.69421488e-01, 2.38842975e+00, 5.16528926e+00, 9.00000000e+00])"
      ]
     },
     "execution_count": 4,
     "metadata": {},
     "output_type": "execute_result"
    }
   ],
   "source": [
    "# 2. Create an array of length N=12 equally spaced between -5 and (including) 3, \n",
    "# then compute the square of these values. \n",
    "\n",
    "y_array = np.linspace(-5,3,12)\n",
    "y_square = y_array**2\n",
    "y_square"
   ]
  },
  {
   "cell_type": "code",
   "execution_count": 5,
   "metadata": {},
   "outputs": [
    {
     "name": "stdout",
     "output_type": "stream",
     "text": [
      "-0.9880316240928618\n",
      "0.49999999999999994\n",
      "0.49999999999999994\n",
      "-1.0\n"
     ]
    }
   ],
   "source": [
    "# 3. Create a 2D grid of longitudes lambda [0,360] deg and latitudes phi [-90,90] every 30 degrees.\n",
    "\n",
    "d_deg = 30 # stepsize\n",
    "lon = np.arange(0,361,d_deg)\n",
    "lat = np.arange(-90,91,d_deg)\n",
    "\n",
    "LAT,LON=np.meshgrid(lat,lon)\n",
    "\n",
    "# Then calculate sin(30) and cos(pi), i.e. find out how to use degrees and radians with numpy functions.\n",
    "print(np.sin(30))              # this is wrong\n",
    "print(np.sin(np.deg2rad(30)))  # this is correct\n",
    "print(np.sin(30*np.pi/180))              # this is also correct\n",
    "# --> numpy trigonometric functions want radians, not degrees\n",
    "print(np.cos(np.pi))\n"
   ]
  },
  {
   "cell_type": "code",
   "execution_count": 6,
   "metadata": {},
   "outputs": [
    {
     "name": "stdout",
     "output_type": "stream",
     "text": [
      "N =    500, mean = 2.97, std = 2.066846997752929\n",
      "N =   1200, mean = 2.95, std = 2.053970086844161\n",
      "N = 100000, mean = 3.00, std = 1.9934882836124663\n"
     ]
    }
   ],
   "source": [
    "# 4. Create an array of `N=[500,1200,1e5]` samples of the Normal\n",
    "# distribution of mean=3, standard deviation=2.\n",
    "# Determine the mean and standard deviation with numpy functions.\n",
    "\n",
    "for N in [500,1200,int(1e5)]:\n",
    "    D = np.random.normal(loc=3, scale=2, size=N)\n",
    "    print(f'N = {N:6d}, mean = {D.mean():.2f}, std = {D.std()}')\n",
    "    \n",
    "# again, the numbers and letters after the colon in the f-string \n",
    "# determine the output format"
   ]
  },
  {
   "cell_type": "code",
   "execution_count": 7,
   "metadata": {},
   "outputs": [
    {
     "name": "stdout",
     "output_type": "stream",
     "text": [
      "pi equals 3.141784\n"
     ]
    }
   ],
   "source": [
    "#5. _Hard:_ Compute an approximation to $\\pi$ using Monte Carlo sampling. Use only the `numpy.random.uniform()` function. These hints may help:\n",
    "# - The area of a circle is $area = \\pi \\times radius^2$\n",
    "# - Sample the unit square $(0,1)\\times(0,1)$ with $N$ uniformly in $x$ and $y$ distributed points.\n",
    "\n",
    "def pi_estimation(sample_size=10000):\n",
    "    #estimating pi using monte carlo sampling\n",
    "    a = np.random.random(sample_size)\n",
    "    b = np.random.random(sample_size)\n",
    "    a = np.power(a, 2)\n",
    "    b = np.power(b, 2)\n",
    "    a = np.add(a, b)\n",
    "    N = np.sum(a < 1)\n",
    "    print(\"pi equals\", 4.0 * N / sample_size)\n",
    "\n",
    "pi_estimation(10000000)\n"
   ]
  },
  {
   "cell_type": "code",
   "execution_count": null,
   "metadata": {},
   "outputs": [],
   "source": []
  }
 ],
 "metadata": {
  "kernelspec": {
   "display_name": "Python 3",
   "language": "python",
   "name": "python3"
  },
  "language_info": {
   "codemirror_mode": {
    "name": "ipython",
    "version": 3
   },
   "file_extension": ".py",
   "mimetype": "text/x-python",
   "name": "python",
   "nbconvert_exporter": "python",
   "pygments_lexer": "ipython3",
   "version": "3.11.7"
  }
 },
 "nbformat": 4,
 "nbformat_minor": 4
}
