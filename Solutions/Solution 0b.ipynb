{
 "cells": [
  {
   "cell_type": "markdown",
   "metadata": {},
   "source": [
    "## <span style=\"color:green\">Solutions</span>\n",
    "These are possible solutions, there are certainly other valid ways to achieve the desired outcomes."
   ]
  },
  {
   "cell_type": "code",
   "execution_count": 1,
   "metadata": {},
   "outputs": [
    {
     "name": "stdout",
     "output_type": "stream",
     "text": [
      " 0^4 = 0\n",
      " 1^4 = 1\n",
      " 2^4 = 16\n",
      " 3^4 = 81\n",
      " 4^4 = 256\n",
      " 5^4 = 625\n",
      " 6^4 = 1296\n",
      " 7^4 = 2401\n",
      " 8^4 = 4096\n",
      " 9^4 = 6561\n",
      "10^4 = 10000\n",
      "11^4 = 14641\n",
      "12^4 = 20736\n",
      "13^4 = 28561\n",
      "14^4 = 38416\n"
     ]
    }
   ],
   "source": [
    "# 1. Calculate the fourth power of all integers to 15 using either a `for` loop or a `while` loop.\n",
    "for i in range(15):\n",
    "    print(f'{i:2d}^4 = {i**4}')  # the ':2d' specifies the output format to integer using 5 spaces"
   ]
  },
  {
   "cell_type": "code",
   "execution_count": 2,
   "metadata": {},
   "outputs": [
    {
     "data": {
      "text/plain": [
       "[0, 1, 8, 27, 64, 125, 216, 343, 512, 729]"
      ]
     },
     "execution_count": 2,
     "metadata": {},
     "output_type": "execute_result"
    }
   ],
   "source": [
    "# 2. Create a list of the third power of all integers to 10 using a list comprehension.\n",
    "[n**3 for n in range(10)]"
   ]
  },
  {
   "cell_type": "code",
   "execution_count": 3,
   "metadata": {},
   "outputs": [
    {
     "data": {
      "text/plain": [
       "[0, 1, 27, 64, 216, 343, 512, 729]"
      ]
     },
     "execution_count": 3,
     "metadata": {},
     "output_type": "execute_result"
    }
   ],
   "source": [
    "# 3. Remove the second and fifth item from the list you just created.\n",
    "A = [n**3 for n in range(10)]\n",
    "A.pop(5)  # the order matters here\n",
    "A.pop(2)\n",
    "A"
   ]
  },
  {
   "cell_type": "code",
   "execution_count": 4,
   "metadata": {},
   "outputs": [
    {
     "name": "stdout",
     "output_type": "stream",
     "text": [
      " 0^2=  0 is divisible by 3.\n",
      " 3^2=  9 is divisible by 3.\n",
      " 6^2= 36 is divisible by 3.\n",
      " 9^2= 81 is divisible by 3.\n",
      "12^2=144 is divisible by 3.\n"
     ]
    }
   ],
   "source": [
    "# 4. Loop over all squares until 15 and only print those that are divisible (without remainder) by 3. \n",
    "# Print the following strings `The square of (number)=(number squared) and is divisible by 3.`\n",
    "# replacing the paranthesized parts.\n",
    "for i in range(15):\n",
    "    if i**2%3==0:\n",
    "        print(f'{i:2d}^2={i**2:3d} is divisible by 3.')\n",
    "        # the ':2d' specifies the output format to integer using 5 spaces"
   ]
  },
  {
   "cell_type": "code",
   "execution_count": 5,
   "metadata": {},
   "outputs": [
    {
     "name": "stdout",
     "output_type": "stream",
     "text": [
      "0 0\n",
      "1 1\n",
      "2 3\n",
      "3 6\n",
      "4 10\n",
      "5 15\n",
      "6 21\n",
      "7 28\n",
      "8 36\n",
      "9 45\n",
      "Done!\n"
     ]
    }
   ],
   "source": [
    "# 5. Print the sum of all integers up to `n` for all `n<10` and print \"Done!\" below when done.\n",
    "n = 0\n",
    "for i in range(10):\n",
    "    n += i\n",
    "    print(i, n)\n",
    "print('Done!')"
   ]
  },
  {
   "cell_type": "code",
   "execution_count": 6,
   "metadata": {},
   "outputs": [
    {
     "name": "stdout",
     "output_type": "stream",
     "text": [
      "[10, 20, 30, 40, 50]\n",
      "[50, 40, 30, 20, 10]\n",
      "[50, 40, 30, 20, 10]\n"
     ]
    }
   ],
   "source": [
    "# 6. Invert the list `a = list(range(10,51,10))` using a loop.\n",
    "a = list(range(10,51,10))\n",
    "print(a)\n",
    "b = []\n",
    "for i in range(len(a)):\n",
    "    b.append(a[-i-1])\n",
    "print(b)\n",
    "# without a loop you can use the reversed method:\n",
    "c = list(reversed(a))\n",
    "print(c)"
   ]
  },
  {
   "cell_type": "code",
   "execution_count": 7,
   "metadata": {},
   "outputs": [
    {
     "name": "stdout",
     "output_type": "stream",
     "text": [
      "7 10\n",
      "cde\n",
      "oWo\n"
     ]
    }
   ],
   "source": [
    "# 7. Given string of undefined length >5, return the middle three letters.\n",
    "# two strings with odd and even numbers of characters\n",
    "string1 = 'abcdefg'\n",
    "string2 = 'helloWorld'\n",
    "\n",
    "n1, n2 = len(string1), len(string2)\n",
    "print(n1, n2)\n",
    "print(string1[int(n1/2)-1:int(n1/2)+2])\n",
    "print(string2[int(n2/2)-1:int(n2/2)+2])"
   ]
  },
  {
   "cell_type": "code",
   "execution_count": 8,
   "metadata": {},
   "outputs": [
    {
     "name": "stdout",
     "output_type": "stream",
     "text": [
      "delloWorlh\n"
     ]
    }
   ],
   "source": [
    "# 8. Given a string, exchange the first and last characters.\n",
    "string = string2[-1] + string2[1:-1] + string2[0]\n",
    "print(string)"
   ]
  },
  {
   "cell_type": "code",
   "execution_count": 9,
   "metadata": {},
   "outputs": [
    {
     "name": "stdout",
     "output_type": "stream",
     "text": [
      "elloorld123HW\n",
      "note how we did not use the symbols: >>> !?!\n"
     ]
    }
   ],
   "source": [
    "# 9. Given a string with mixed capital and lower case letters and numbers, \n",
    "# order them with lowercase letters first, numbers second, uppercase letters last.\n",
    "string = '>>>HelloWorld123 !?!'\n",
    "lower, numbers, upper, symbols = '', '', '', ''\n",
    "for l in string:\n",
    "    if l.islower():\n",
    "        lower +=l\n",
    "    elif l.isnumeric():\n",
    "        numbers +=l\n",
    "    elif l.isupper():\n",
    "        upper +=l\n",
    "    else:\n",
    "        symbols += l\n",
    "print(lower+numbers+upper)\n",
    "print('note how we did not use the symbols:', symbols)"
   ]
  },
  {
   "cell_type": "code",
   "execution_count": 10,
   "metadata": {},
   "outputs": [
    {
     "name": "stdout",
     "output_type": "stream",
     "text": [
      "[5, 20, 15, 20, 25, 50, 20]\n",
      "[5, 200, 15, 20, 25, 50, 20]\n"
     ]
    }
   ],
   "source": [
    "# 10. Given the list `list1 = [5, 20, 15, 20, 25, 50, 20]`, find value 20 in the list, and if it is present,\n",
    "# replace it with 200. Only update the first occurrence of a value.\n",
    "list1 = [5, 20, 15, 20, 25, 50, 20]\n",
    "print(list1)\n",
    "index = list1.index(20)\n",
    "list1[index] = 200\n",
    "print(list1)"
   ]
  },
  {
   "cell_type": "code",
   "execution_count": 11,
   "metadata": {},
   "outputs": [
    {
     "name": "stdout",
     "output_type": "stream",
     "text": [
      "name: Gandalf, age = 2019 years\n",
      "name: Gandalf, age = 2019 years\n",
      "name: Gandalf, age = 2019 years\n"
     ]
    }
   ],
   "source": [
    "# 11. Create a function that can accept two arguments name and age and print its value\n",
    "def first_function(name, age):\n",
    "    \"\"\" simply print name and age\"\"\"\n",
    "    print(f'name: {name}, age = {age} years')\n",
    "    \n",
    "# you can call this function in three different ways\n",
    "first_function('Gandalf', 2019)\n",
    "first_function('Gandalf', age=2019)\n",
    "first_function(name='Gandalf', age=2019)\n",
    "# first_function(name='Gandalf', 2019)  # this does not work"
   ]
  },
  {
   "cell_type": "code",
   "execution_count": 12,
   "metadata": {},
   "outputs": [
    {
     "name": "stdout",
     "output_type": "stream",
     "text": [
      "Hello\n",
      "3\n",
      "3.1415\n",
      "1.618\n",
      "2.718\n"
     ]
    }
   ],
   "source": [
    "# 12. Write a function func1() such that it can accept a variable length of \n",
    "# argument and print all arguments value\n",
    "def func1(*arguments):\n",
    "    \"\"\" prints all arguments passed on a separate line \"\"\"\n",
    "    for a in arguments:\n",
    "        print(a)\n",
    "func1('Hello', 3)\n",
    "func1(3.1415, 1.618, 2.718)"
   ]
  },
  {
   "cell_type": "code",
   "execution_count": 13,
   "metadata": {},
   "outputs": [
    {
     "name": "stdout",
     "output_type": "stream",
     "text": [
      "[4, 6, 8, 10, 12, 14]\n",
      "[4, 6, 8, 10, 12, 14]\n"
     ]
    }
   ],
   "source": [
    "# 13. Write a function that generates a Python list of all the even numbers between a lower bound `a` \n",
    "# and an upper bound `b`.\n",
    "def even_numbers(a,b):\n",
    "    \"\"\" generates list of even numbers between a and b \"\"\"\n",
    "    even_list = []\n",
    "    for i in range(a,b):\n",
    "        if i%2==0:  even_list.append(i)\n",
    "    return even_list\n",
    "\n",
    "print(even_numbers(3,16))\n",
    "\n",
    "# a list comprehension is more pythonic:\n",
    "a, b = 3, 16\n",
    "print([i for i in range(a,b) if i%2==0])"
   ]
  },
  {
   "cell_type": "code",
   "execution_count": 14,
   "metadata": {},
   "outputs": [
    {
     "data": {
      "text/plain": [
       "12"
      ]
     },
     "execution_count": 14,
     "metadata": {},
     "output_type": "execute_result"
    }
   ],
   "source": [
    "# In Python, we can create a nested function inside a function. \n",
    "# We can use the nested function to perform complex tasks multiple times \n",
    "# within another function or avoid loop and code duplication.\n",
    "# 14. Create an inner function to calculate the addition in the following way\n",
    "#     A. Create an outer function that will accept two parameters a and b\n",
    "#     B. Create an inner function inside an outer function that will calculate the addition of a and b\n",
    "#     C. At last, the  outer function will add 5 into addition and return it\n",
    "def nested_function(a, b):\n",
    "    \"\"\" adds 5 to the sum of a and b \"\"\"\n",
    "    def add(c,d):\n",
    "        \"\"\" add c and d \"\"\"\n",
    "        return c+d\n",
    "    return add(a,b)+5\n",
    "nested_function(3,4)"
   ]
  },
  {
   "cell_type": "code",
   "execution_count": 15,
   "metadata": {},
   "outputs": [
    {
     "data": {
      "text/plain": [
       "75"
      ]
     },
     "execution_count": 15,
     "metadata": {},
     "output_type": "execute_result"
    }
   ],
   "source": [
    "# 15. Write a funcion that returns the largest item from a given list of numbers. \n",
    "# Use a built-in function of Python.\n",
    "def find_max(some_list):\n",
    "    \"\"\" finds the maximum of the list some_list \"\"\"\n",
    "    return max(some_list)\n",
    "find_max([1,6,12,75,20,60])"
   ]
  }
 ],
 "metadata": {
  "kernelspec": {
   "display_name": "Python 3 (ipykernel)",
   "language": "python",
   "name": "python3"
  },
  "language_info": {
   "codemirror_mode": {
    "name": "ipython",
    "version": 3
   },
   "file_extension": ".py",
   "mimetype": "text/x-python",
   "name": "python",
   "nbconvert_exporter": "python",
   "pygments_lexer": "ipython3",
   "version": "3.11.7"
  }
 },
 "nbformat": 4,
 "nbformat_minor": 4
}
