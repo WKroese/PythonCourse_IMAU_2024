{
 "cells": [
  {
   "cell_type": "markdown",
   "id": "248cd21a",
   "metadata": {},
   "source": [
    " # Workshop 4 b - small numerical model"
   ]
  },
  {
   "cell_type": "markdown",
   "id": "72784120",
   "metadata": {},
   "source": [
    "The well-known toy model for atmospheric variablity is the Lorenz 1963 model given by\n",
    "the following set of ordinary differential equations:\n",
    "\n",
    "$$ \\frac{dx}{dt} = s(y-x) $$\n",
    "\n",
    "$$ \\frac{dy}{dt} = rx - y - xz $$\n",
    "\n",
    "$$ \\frac{dz}{dt} = xy-bz $$\n",
    "\n",
    "This system is, for standard values of parameters $s = 10, r = 28$ and $b = 2.667$, a chaotic system with sensitivity to initial conditions. Use for this exercise $\\Delta t = 0.02$ and $t_{end} = 100$.\n",
    "\n",
    "Goal: Investigate the behaviour of the Lorenz model in the following sub-exercises,\n",
    "by generating contourf plots and 3D plots.\n",
    "\n",
    "1. Write a definition to return $\\frac{dx}{dt}, \\frac{dy}{dt}, \\frac{dz}{dt}$ and use this to update $x, y$ and $z$ with a simple Euler forward scheme.\n",
    "\n",
    "2. Determine the values for $x, y, z$ while using the initial conditions of $x_0 = 0,\n",
    "y_0 = 1$ and $z_0 = 1.05$. Plot the time series of $x, y, z$.\n",
    "\n",
    "3. Now set $x_0 = 0.1$ and plot the the time series for $x_0 = 0$ and $x_0 = 0.1$. Explain\n",
    "the results qualitatively.\n",
    "\n",
    "4. Vary $x_0$ in the range of 0 to 0.2 and make a contourf plot for the value of $z$.\n",
    "Try to make a similar plot as in the figure (a) below.\n",
    "\n",
    "5. Make a 3D plot of $x, y, z$ (see the figure (b) below, $x_0 = 0$). Use the `Axes3D`\n",
    "module in python (look up how to implement this).\n",
    "\n",
    "The results should look like this:\n",
    "\n",
    "<img src=\"lorenz.png\" width=\"500\" height=\"500\" />\n",
    "<img src=\"lorenz_contour.png\" width=\"700\" height=\"500\" />\n"
   ]
  },
  {
   "cell_type": "markdown",
   "id": "88ce6bf6",
   "metadata": {},
   "source": [
    "# Excersise\n"
   ]
  },
  {
   "cell_type": "code",
   "execution_count": null,
   "id": "a69f8549",
   "metadata": {},
   "outputs": [],
   "source": []
  },
  {
   "cell_type": "code",
   "execution_count": null,
   "id": "613d846e",
   "metadata": {},
   "outputs": [],
   "source": []
  }
 ],
 "metadata": {
  "kernelspec": {
   "display_name": "Python 3",
   "language": "python",
   "name": "python3"
  },
  "language_info": {
   "codemirror_mode": {
    "name": "ipython",
    "version": 3
   },
   "file_extension": ".py",
   "mimetype": "text/x-python",
   "name": "python",
   "nbconvert_exporter": "python",
   "pygments_lexer": "ipython3",
   "version": "3.9.5"
  }
 },
 "nbformat": 4,
 "nbformat_minor": 5
}
