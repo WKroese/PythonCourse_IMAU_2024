{
 "cells": [
  {
   "cell_type": "markdown",
   "metadata": {},
   "source": [
    "# Fundamentals of coding in Python\n",
    "\n",
    "This material is mostly adapted from the [official python tutorial](https://docs.python.org/3/tutorial/), Copyright 2001-2019, Python Software Foundation. It is used here under the terms of the [Python License](https://docs.python.org/3/license.html). Also, part of this introduction if based on the Python introduction from last years of André Jüling, created under the BSD 3-Clause License (https://github.com/AJueling/python_climate_physics), and Janneke Krabbendam.\n",
    "\n",
    "## <span style=\"color:blue\">Exercises can be found at the end of the Notebook</span>\n",
    "\n",
    "## Variables and printing\n",
    "You can use Python as a calculator, try a simple calculation such as `3*4+6/8`. If there are multiple calculations in one cell and you run the cell (`Shift+Enter`), by default only the last result is shown. Therefore, if you want to make the output of multiple lines visible, you need the command `print(variable)`. \n",
    "\n",
    "There are certain words that you can not use as variable names. These identifiers are used as reserved words, or keywords of the language. They must be spelled exactly as written here:\n",
    "\n",
    "    False      class      finally    is         return\n",
    "    None       continue   for        lambda     try\n",
    "    True       def        from       nonlocal   while\n",
    "    and        del        global     not        with\n",
    "    as         elif       if         or         yield\n",
    "    assert     else       import     pass\n",
    "    break      except     in         raise\n",
    "\n",
    "#### <span style=\"color:red\">*First read through each cell of code, and then run the cell!*</span>"
   ]
  },
  {
   "cell_type": "code",
   "execution_count": null,
   "metadata": {},
   "outputs": [],
   "source": [
    "# comments are anything that comes after the \"#\" symbol\n",
    "a = 2       # assign 2 to variable a\n",
    "b = \"hello\" # assign \"hello\" to variable b\n",
    "\n",
    "# how to see our variables?\n",
    "print(a)\n",
    "print(b)\n",
    "print(a,b)"
   ]
  },
  {
   "cell_type": "markdown",
   "metadata": {},
   "source": [
    "In this example you see that we have different types of variables. All variables are objects. Every object has a type, which we call a __class__. Examples are text (__strings__) and numbers (__integers__ or __floats__). In your computations, variables often need to be of a certain class. To find out what type your variables are, use the command `type`"
   ]
  },
  {
   "cell_type": "code",
   "execution_count": null,
   "metadata": {},
   "outputs": [],
   "source": [
    "print(type(a))\n",
    "print(type(b))\n",
    "\n",
    "# You can also check the type with the keyword 'is'\n",
    "print(type(a) is int)\n",
    "print(type(a) is str)"
   ]
  },
  {
   "cell_type": "markdown",
   "metadata": {},
   "source": [
    "You can print integers/floats and strings together by concatenating them with a comma `,` , plus sign `+` or  `%` sign. You have to be careful when printing different variables together that are of a different class (try for example `print(a+b)` to see what error message you get)."
   ]
  },
  {
   "cell_type": "code",
   "execution_count": null,
   "metadata": {},
   "outputs": [],
   "source": [
    "print(b,\"! This is the number\", a)\n",
    "print(b + \" ! This is the number \" + str(a))\n",
    "print(\"%s ! This is the number %i \" %(b, a)) # define the class of the variables after the %-sign, \n",
    "                                            # s=string, i=integer, f=float"
   ]
  },
  {
   "cell_type": "markdown",
   "metadata": {},
   "source": [
    "If a variable is a float or an integer, you can execute computations within the `print` command. The printed output is the result of the computation. However, multiplying a string by a number repeats the string this number of times.\n"
   ]
  },
  {
   "cell_type": "code",
   "execution_count": null,
   "metadata": {},
   "outputs": [],
   "source": [
    "print(a+2)\n",
    "print(a*b)\n",
    "print((a+1)*b)"
   ]
  },
  {
   "cell_type": "markdown",
   "metadata": {},
   "source": [
    "There are several built-in functions you can use in Python. Some are for integers and some are for floats. You can access them trough the command ``variable.method``.  It you type the variable name, followed by `tab`, IPython gives you all the methods that are available for this variable.\n",
    "    \n"
   ]
  },
  {
   "cell_type": "code",
   "execution_count": null,
   "metadata": {},
   "outputs": [],
   "source": [
    "# this returns the method itself, so what the method does \n",
    "b.capitalize  # b is our variable 'hello' here"
   ]
  },
  {
   "cell_type": "code",
   "execution_count": null,
   "metadata": {},
   "outputs": [],
   "source": [
    "# this calls the method\n",
    "b.capitalize() # b is our variable 'hello' here\n",
    "# there are lots of other methods"
   ]
  },
  {
   "cell_type": "markdown",
   "metadata": {},
   "source": [
    "The following a built-in functions which are always available in your namespace once you open a Python interpreter\n",
    "\n",
    "    abs() dict() help() min() setattr() all() dir() hex() next() slice() any()\n",
    "    divmod() id() object() sorted() ascii() enumerate() input() oct() staticmethod()\n",
    "    bin() eval() int() open() str() bool() exec() isinstance() ord() sum() bytearray()\n",
    "    filter() issubclass() pow() super() bytes() float() iter() print() tuple()\n",
    "    callable() format() len() property() type() chr() frozenset() list() range()\n",
    "    vars() classmethod() getattr() locals() repr() zip() compile() globals() map()\n",
    "    reversed() import() complex() hasattr() max() round() delattr() hash()\n",
    "    memoryview() set()\n",
    "    \n",
    "## Maths\n",
    "\n",
    "Basic arithmetic and Boolean logic is part of the core Python library. Here, we will give all the important commands."
   ]
  },
  {
   "cell_type": "code",
   "execution_count": null,
   "metadata": {},
   "outputs": [],
   "source": [
    "# addition / subtraction\n",
    "1+1-5"
   ]
  },
  {
   "cell_type": "code",
   "execution_count": null,
   "metadata": {},
   "outputs": [],
   "source": [
    "# multiplication\n",
    "5 * 10"
   ]
  },
  {
   "cell_type": "code",
   "execution_count": null,
   "metadata": {},
   "outputs": [],
   "source": [
    "# division\n",
    "1/2"
   ]
  },
  {
   "cell_type": "code",
   "execution_count": null,
   "metadata": {},
   "outputs": [],
   "source": [
    "# that was automatically converted to a float\n",
    "type(1/2)"
   ]
  },
  {
   "cell_type": "code",
   "execution_count": null,
   "metadata": {},
   "outputs": [],
   "source": [
    "# exponentiation\n",
    "2**4"
   ]
  },
  {
   "cell_type": "code",
   "execution_count": null,
   "metadata": {},
   "outputs": [],
   "source": [
    "# modulo operator\n",
    "3%2"
   ]
  },
  {
   "cell_type": "code",
   "execution_count": null,
   "metadata": {},
   "outputs": [],
   "source": [
    "# rounding\n",
    "round(9/10)"
   ]
  },
  {
   "cell_type": "code",
   "execution_count": null,
   "metadata": {},
   "outputs": [],
   "source": [
    "# built in complex number support\n",
    "(1+2j) / (3-4j)"
   ]
  },
  {
   "cell_type": "code",
   "execution_count": null,
   "metadata": {},
   "outputs": [],
   "source": [
    "# logic --> these will come in handy when we look at conditionals and loops later in this Notebook\n",
    "True and True"
   ]
  },
  {
   "cell_type": "code",
   "execution_count": null,
   "metadata": {},
   "outputs": [],
   "source": [
    "True and False"
   ]
  },
  {
   "cell_type": "code",
   "execution_count": null,
   "metadata": {},
   "outputs": [],
   "source": [
    "True or True"
   ]
  },
  {
   "cell_type": "code",
   "execution_count": null,
   "metadata": {},
   "outputs": [],
   "source": [
    "True or False"
   ]
  },
  {
   "cell_type": "code",
   "execution_count": null,
   "metadata": {},
   "outputs": [],
   "source": [
    "(not True) or (not False)"
   ]
  },
  {
   "cell_type": "markdown",
   "metadata": {},
   "source": [
    "## Lists and indexing\n",
    "Lists are one of the core Python data structures. You can fill them with strings or with numbers. Lists come in handy when we have larger datasets or when we are performing multiple calculations in loops (we will practice this later). Lists have their own methods/built-in functions that are very useful. \n",
    "\n",
    "Looking at lists gives us the opportunity to practice with Python indexing. This may be a bit counterintuitive at first, but practicing helps. This indexing is often different in other coding languages. The first element of a list has the index `0` and the last element of a list has index `len(list)-1` (so the length of the list minus 1). There are also several ways to select only certain elements of a list."
   ]
  },
  {
   "cell_type": "code",
   "execution_count": null,
   "metadata": {},
   "outputs": [],
   "source": [
    "l = ['dog', 'cat', 'mouse','fish']\n",
    "print(\"The class of l =\", type(l))\n",
    "print(l)\n",
    "print(\"The length of list l = \",len(l))\n",
    "print(\"The first element of l =\",l[0])\n",
    "print(\"The last element of l =\",l[len(l)-1])\n",
    "print(\"The last element of l =\",l[-1])\n",
    "print(l[1:-1])"
   ]
  },
  {
   "cell_type": "code",
   "execution_count": null,
   "metadata": {},
   "outputs": [],
   "source": [
    "print(l[len(l)]) # now you will get an error due to the indexing"
   ]
  },
  {
   "cell_type": "markdown",
   "metadata": {},
   "source": [
    "To create a list of numbers, a convenient command is `range()`. In between the brackets you put the beginning and end of the range, and a stepsize.\n",
    "\n",
    "1. `range(stop)` = range from 0 to (stop-1) with stepsize = 1\n",
    "2. `range(start,stop)` = range from start to (stop-1) with stepsize = 1\n",
    "3. `range(start,stop,step)` = range from start to (stop-1) with stepsize = step\n",
    "\n",
    "Start, stop, step must be all integers. You can convert a `range()` to a list with the command `list()`."
   ]
  },
  {
   "cell_type": "code",
   "execution_count": null,
   "metadata": {},
   "outputs": [],
   "source": [
    "print(range(10)) # range creates a range of numbers from 0 to the 4 (always the last number-1)\n",
    "r = list(range(10)) # convert this range to a list the command \n",
    "type(r)\n",
    "print(r)\n",
    "print(list(range(2,10,2)))\n",
    "print(r[2:-2])"
   ]
  },
  {
   "cell_type": "markdown",
   "metadata": {},
   "source": [
    "There are many different ways to interact with lists. Exploring them is part of the fun of Python.\n",
    "\n",
    "__list.append(x)__ Add an item to the end of the list. Equivalent to a[len(a):] = [x].\n",
    "\n",
    "__list.extend(L)__ \n",
    "Extend the list by appending all the items in the given list. Equivalent to a[len(a):] = L.\n",
    "\n",
    "__list.insert(i, x)__ Insert an item at a given position. The first argument is the index of the element before which to insert, so a.insert(0, x) inserts at the front of the list, and a.insert(len(a), x) is equivalent to a.append(x).\n",
    "\n",
    "__list.remove(x)__ Remove the first item from the list whose value is x. It is an error if there is no such item.\n",
    "\n",
    "__list.pop([i])__ Remove the item at the given position in the list, and return it. If no index is specified, a.pop() removes and returns the last item in the list. (The square brackets around the i in the method signature denote that the parameter is optional, not that you should type square brackets at that position. You will see this notation frequently in the Python Library Reference.)\n",
    "\n",
    "__list.clear()__ Remove all items from the list. Equivalent to del a[:].\n",
    "\n",
    "__list.index(x)__ Return the index in the list of the first item whose value is x. It is an error if there is no such item.\n",
    "\n",
    "__list.count(x)__ Return the number of times x appears in the list.\n",
    "\n",
    "__list.sort()__ Sort the items of the list in place.\n",
    "\n",
    "__list.reverse()__ Reverse the elements of the list in place.\n",
    "\n",
    "__list.copy()__ Return a shallow copy of the list. Equivalent to a[:].\n",
    "\n",
    "\n",
    "Don't assume you know how list operations work!"
   ]
  },
  {
   "cell_type": "code",
   "execution_count": null,
   "metadata": {},
   "outputs": [],
   "source": [
    "# Here is an example of pop, we will come to while-loops in a minute\n",
    "while r:\n",
    "    p = r.pop()\n",
    "    print('p:', p)\n",
    "    print('r:', r)"
   ]
  },
  {
   "cell_type": "code",
   "execution_count": null,
   "metadata": {},
   "outputs": [],
   "source": [
    "# \"add\" two lists\n",
    "x = list(range(5))\n",
    "y = list(range(10,15))\n",
    "# range syntax: either range(stop), range(start,stop), or range(start, stop, step)\n",
    "# start, stop, step must be integers\n",
    "z = x + y\n",
    "z"
   ]
  },
  {
   "cell_type": "code",
   "execution_count": null,
   "metadata": {},
   "outputs": [],
   "source": [
    "# access certain items from a list\n",
    "print('The first element of z = ', z[0])\n",
    "print('The last element of z = ', z[-1])\n",
    "print('The first 3 elements of z are ', z[:3])\n",
    "print('The last 3 elements of z are', z[-3:])\n",
    "print('Element 2 until the third last are', z[1:-2])  \n",
    "print('Every second element of z (starting from the first)', z[0::2])\n",
    "print('The middle is, skipping every other item', z[5:10:2])"
   ]
  },
  {
   "cell_type": "code",
   "execution_count": null,
   "metadata": {},
   "outputs": [],
   "source": [
    "# this index notation also applies to strings\n",
    "name = 'Ryan Abernathey'\n",
    "print(name[:4])"
   ]
  },
  {
   "cell_type": "code",
   "execution_count": null,
   "metadata": {},
   "outputs": [],
   "source": [
    "# you can also test for the presence of items in a list using 'in'\n",
    "5 in z"
   ]
  },
  {
   "cell_type": "markdown",
   "metadata": {},
   "source": [
    "Note that, lists are not meant for math! They don't have a datatype."
   ]
  },
  {
   "cell_type": "code",
   "execution_count": null,
   "metadata": {},
   "outputs": [],
   "source": [
    "z[4] = 'fish'\n",
    "z"
   ]
  },
  {
   "cell_type": "markdown",
   "metadata": {},
   "source": [
    "__MEMORIZE THIS SYNTAX!__ It is central to so much of Python and often proves confusing for users coming from other languages.\n",
    "\n",
    "In terms of set notation, Python indexing is _left inclusive, right exclusive_ !!!. If you remember this, you will never go wrong.\n",
    "\n",
    "## Other datatypes\n",
    "\n",
    "Apart from lists, there are also __tuples__ and __dictionaries__ each have their own advantages and disadvantages.\n",
    "\n",
    "1. __Tuples__ = similar to lists, but they are *immutable*, which means that they can't be extended or modified. What is the point of this? Generally speaking: to pack together inhomogeneous data. Tuples can then be unpacked and distributed by other parts of your code. Tuples may seem confusing at first, but with time you will come to appreciate them.\n",
    "\n",
    "1. __Dictionaries__ = an extremely useful data structure. It maps __keys__ to __values__. Dictionaries are unordered!\n",
    "\n",
    "Here are some examples of tuples and dictionaries!"
   ]
  },
  {
   "cell_type": "code",
   "execution_count": null,
   "metadata": {},
   "outputs": [],
   "source": [
    "# tuples are created with parentheses, or just commas\n",
    "a = ('Ryan', 33, True)\n",
    "b = 'Takaya', 25, False\n",
    "type(b)"
   ]
  },
  {
   "cell_type": "code",
   "execution_count": null,
   "metadata": {},
   "outputs": [],
   "source": [
    "# tuples can be indexed like arrays\n",
    "print(a[1]) # not the first element!"
   ]
  },
  {
   "cell_type": "code",
   "execution_count": null,
   "metadata": {},
   "outputs": [],
   "source": [
    "# and tuples can be unpacked\n",
    "name, age, status = a\n",
    "print(f'name: {name}, age: {age}, status: {status}')  # this an f-string, which allows you to enter \n",
    "                                                      # variables in strings"
   ]
  },
  {
   "cell_type": "code",
   "execution_count": null,
   "metadata": {},
   "outputs": [],
   "source": [
    "# DICTIONARIES\n",
    "# different ways to create dictionaries\n",
    "d = {'name': 'Ryan', 'age': 33}\n",
    "e = dict(name='Takaya', age=25)\n",
    "e"
   ]
  },
  {
   "cell_type": "code",
   "execution_count": null,
   "metadata": {},
   "outputs": [],
   "source": [
    "# access a value\n",
    "d['name']"
   ]
  },
  {
   "cell_type": "markdown",
   "metadata": {},
   "source": [
    "Square brackets ``[...]`` are Python for \"get item\" in many different contexts."
   ]
  },
  {
   "cell_type": "code",
   "execution_count": null,
   "metadata": {},
   "outputs": [],
   "source": [
    "# test for the presence of a key\n",
    "print('age' in d)\n",
    "print('height' in e)"
   ]
  },
  {
   "cell_type": "code",
   "execution_count": null,
   "metadata": {},
   "outputs": [],
   "source": [
    "# try to access a non-existant key\n",
    "d['height']"
   ]
  },
  {
   "cell_type": "code",
   "execution_count": null,
   "metadata": {},
   "outputs": [],
   "source": [
    "# add a new key\n",
    "d['height'] = (5,11) # a tuple, heigh in feet and inches\n",
    "d"
   ]
  },
  {
   "cell_type": "code",
   "execution_count": null,
   "metadata": {},
   "outputs": [],
   "source": [
    "# keys don't have to be strings\n",
    "d[99] = 'ninety nine'\n",
    "d"
   ]
  },
  {
   "cell_type": "code",
   "execution_count": null,
   "metadata": {},
   "outputs": [],
   "source": [
    "# iterate over keys\n",
    "for k in d:\n",
    "    print(k, d[k])"
   ]
  },
  {
   "cell_type": "code",
   "execution_count": null,
   "metadata": {},
   "outputs": [],
   "source": [
    "# better way\n",
    "### python 2 syntax: for key, val in d.iteritems()\n",
    "for key, val in d.items():\n",
    "    print(key, val)"
   ]
  },
  {
   "cell_type": "markdown",
   "metadata": {},
   "source": [
    "## For-, while- and if-loops\n",
    "\n",
    "You have already seen a few examples here and there, but there are several ways to do multiple computations consecutively. We call these loops. Loops use indentation (a `tab` or 4 spaces) to define the beginning and end of the loops. There are three different types of loops:\n",
    "\n",
    "1. `if` = do some operations, only when a certain condition is met. This is often also called a conditional.\n",
    "2. `for` =  repeat a chunk of code a predetermined number of times.\n",
    "3. `while` = repeat a chunk of code  as long as a certain condition is satisfied.\n",
    "\n",
    "Here we will show some examples:\n"
   ]
  },
  {
   "cell_type": "code",
   "execution_count": null,
   "metadata": {},
   "outputs": [],
   "source": [
    "# example of if-statement \n",
    "x = 100\n",
    "if x > 0:    # set a condition\n",
    "    print('Positive Number')\n",
    "elif x < 0:  # give an alternative\n",
    "    print('Negative Number')\n",
    "else:    # the rest will go into this part \n",
    "    print ('Zero!')\n"
   ]
  },
  {
   "cell_type": "code",
   "execution_count": null,
   "metadata": {},
   "outputs": [],
   "source": [
    "# another example of an if-statement\n",
    "# indentation is MANDATORY\n",
    "# blocks are closed by indentation level\n",
    "if x > 0:\n",
    "    print('Positive Number')\n",
    "    if x >= 100:     # from the indentation you can see that this if-statement is part of the first\n",
    "        print('Huge number!')"
   ]
  },
  {
   "cell_type": "markdown",
   "metadata": {},
   "source": [
    "*Try to rerun the cells above with a different value of x. Try x = 50, x = -10, or any value of x.*"
   ]
  },
  {
   "cell_type": "code",
   "execution_count": null,
   "metadata": {},
   "outputs": [],
   "source": [
    "# Example for-loop\n",
    "# in for-loops, the amount of computations is predetermined\n",
    "# to determine the amount of computations, we often use 'range'\n",
    "for i in range(5): \n",
    "    print(i)"
   ]
  },
  {
   "cell_type": "code",
   "execution_count": null,
   "metadata": {},
   "outputs": [],
   "source": [
    "# make a while-loop \n",
    "count = 0\n",
    "while count < 10:\n",
    "    # bad way:\n",
    "    # count = count + 1\n",
    "    # better way:\n",
    "    count += 1 # this means the same as count = count + 1\n",
    "print(count)"
   ]
  },
  {
   "cell_type": "code",
   "execution_count": null,
   "metadata": {},
   "outputs": [],
   "source": [
    "# You can use loops to iterate over lists\n",
    "for pet in ['dog', 'cat', 'fish']:\n",
    "    print(pet, len(pet))"
   ]
  },
  {
   "cell_type": "code",
   "execution_count": null,
   "metadata": {},
   "outputs": [],
   "source": [
    "# with the enumerate method we can get the position at the same time\n",
    "for i, pet in enumerate(['dog', 'cat', 'fish']):\n",
    "    print(i, pet, len(pet))"
   ]
  },
  {
   "cell_type": "code",
   "execution_count": null,
   "metadata": {},
   "outputs": [],
   "source": [
    "x = list(range(5))\n",
    "y = list(range(10,15))\n",
    "# iterate over two lists together uzing zip\n",
    "for item1, item2 in zip(x,y):\n",
    "    print('first:', item1, 'second:', item2)"
   ]
  },
  {
   "cell_type": "markdown",
   "metadata": {},
   "source": [
    "Loops can be very computationally expensive, i.e. the demand a lot of memory and the Python code can become very slow. You can use lists to do the same thing as in a loop, but this is a lot faster and demands less memory. We will practice with this later, but just keep it in mind!"
   ]
  },
  {
   "cell_type": "code",
   "execution_count": null,
   "metadata": {},
   "outputs": [],
   "source": [
    "# a cool python trick: list comprehension\n",
    "squares = [n**2 for n in range(5)]\n",
    "print(squares)"
   ]
  },
  {
   "cell_type": "markdown",
   "metadata": {},
   "source": [
    "## Functions\n",
    "\n",
    "If you have long and complex codes, it can be very useful to organize your code into reusable elements. For example, if you find yourself cutting and pasting the same or similar lines of code over and over,\n",
    "you probably need to define a _function_ to encapsulate that code and make it reusable. This is very useful if you want to perform the same computation at different stages in the code.\n",
    "\n",
    "An important principle in programming is **DRY**: \"don't repeat yourself\".\n",
    "Repetition is tedious and opens you up to errors. Strive for elegance and simplicity in your programs.\n",
    "\n",
    "You can define a new function with the command `def`. Just as in loops, we use indentation to tell Python when a function starts and ends. Functions take some inputs (\"arguments\" which are one or multiple variables) and do something in response. Usually functions return something, but not always.\n",
    "\n",
    "When you define a new function with `def`, Python only saves this function. The computations will only happen when the function is called.\n",
    "\n",
    "Within the function, you can provide a description of what the function does. This must be put between `\"\"\"....\"\"\"`.  You can later call on this description by typing `help(function_name)`."
   ]
  },
  {
   "cell_type": "code",
   "execution_count": null,
   "metadata": {},
   "outputs": [],
   "source": [
    "# define a function\n",
    "def say_hello():\n",
    "    \"\"\"Return the word hello.\"\"\"  # this is a documentation string describing what the function does\n",
    "                                  # can be called with the function help()\n",
    "    return 'Hello'\n"
   ]
  },
  {
   "cell_type": "code",
   "execution_count": null,
   "metadata": {},
   "outputs": [],
   "source": [
    "# functions are also objects\n",
    "type(say_hello)"
   ]
  },
  {
   "cell_type": "code",
   "execution_count": null,
   "metadata": {},
   "outputs": [],
   "source": [
    "help(say_hello) # call the description of the function"
   ]
  },
  {
   "cell_type": "code",
   "execution_count": null,
   "metadata": {},
   "outputs": [],
   "source": [
    "# You call the function by putting brackets at the end\n",
    "say_hello()"
   ]
  },
  {
   "cell_type": "code",
   "execution_count": null,
   "metadata": {},
   "outputs": [],
   "source": [
    "# assign the result to something\n",
    "res = say_hello()\n",
    "print(res)"
   ]
  },
  {
   "cell_type": "code",
   "execution_count": null,
   "metadata": {},
   "outputs": [],
   "source": [
    "# Now we define a funcation that takes some arguments\n",
    "def say_hello_to(name):\n",
    "    \"\"\"Return a greeting to `name`\"\"\"\n",
    "    return 'Hello ' + name"
   ]
  },
  {
   "cell_type": "code",
   "execution_count": null,
   "metadata": {},
   "outputs": [],
   "source": [
    "# You have to provide inputs for these arguments when you call them\n",
    "say_hello_to('World')"
   ]
  },
  {
   "cell_type": "markdown",
   "metadata": {},
   "source": [
    "When giving the input for the function, pay attention to the class of the variables. Otherwise you will get an error message."
   ]
  },
  {
   "cell_type": "code",
   "execution_count": null,
   "metadata": {},
   "outputs": [],
   "source": [
    "say_hello_to(10)"
   ]
  },
  {
   "cell_type": "code",
   "execution_count": null,
   "metadata": {},
   "outputs": [],
   "source": [
    "# redefine the function\n",
    "def say_hello_to(name):\n",
    "    \"\"\"Return a greeting to `name`\"\"\"\n",
    "    return 'Hello ' + str(name)"
   ]
  },
  {
   "cell_type": "code",
   "execution_count": null,
   "metadata": {},
   "outputs": [],
   "source": [
    "say_hello_to(10)"
   ]
  },
  {
   "cell_type": "code",
   "execution_count": null,
   "metadata": {},
   "outputs": [],
   "source": [
    "# take an optional keyword argument\n",
    "def say_hello_or_hola(name, spanish=False):\n",
    "    \"\"\"Say hello in multiple languages.\"\"\"\n",
    "    if spanish:\n",
    "        greeting = 'Hola '\n",
    "    else:\n",
    "        greeting = 'Hello '\n",
    "    return greeting + name"
   ]
  },
  {
   "cell_type": "code",
   "execution_count": null,
   "metadata": {},
   "outputs": [],
   "source": [
    "print(say_hello_or_hola('Ryan'))\n",
    "print(say_hello_or_hola('Juan', spanish=True))"
   ]
  },
  {
   "cell_type": "code",
   "execution_count": null,
   "metadata": {},
   "outputs": [],
   "source": [
    "# flexible number of arguments\n",
    "def say_hello_to_everyone(*args):\n",
    "    return ['hello ' + str(a) for a in args]"
   ]
  },
  {
   "cell_type": "code",
   "execution_count": null,
   "metadata": {},
   "outputs": [],
   "source": [
    "say_hello_to_everyone('Ryan', 'Juan', 'Xiaomeng')"
   ]
  },
  {
   "cell_type": "markdown",
   "metadata": {},
   "source": [
    "### Pure vs. Impure Functions\n",
    "\n",
    "Functions that don't modify their arguments or produce any other side-effects are called [_pure_](https://en.wikipedia.org/wiki/Pure_function). \n",
    "\n",
    "Functions that modify their arguments or cause other actions to occur are called _impure_.\n",
    "\n",
    "Below is an impure function."
   ]
  },
  {
   "cell_type": "code",
   "execution_count": null,
   "metadata": {},
   "outputs": [],
   "source": [
    "def remove_last_from_list(input_list):\n",
    "    input_list.pop()"
   ]
  },
  {
   "cell_type": "code",
   "execution_count": null,
   "metadata": {},
   "outputs": [],
   "source": [
    "names = ['Ryan', 'Juan', 'Xiaomeng']\n",
    "print(names)\n",
    "remove_last_from_list(names)\n",
    "print(names)\n",
    "remove_last_from_list(names)\n",
    "print(names)"
   ]
  },
  {
   "cell_type": "markdown",
   "metadata": {},
   "source": [
    "We can do something similar with a pure function.\n",
    "\n",
    "In general, pure functions are safer and more reliable."
   ]
  },
  {
   "cell_type": "code",
   "execution_count": null,
   "metadata": {},
   "outputs": [],
   "source": [
    "def remove_last_from_list_pure(input_list):\n",
    "    new_list = input_list.copy()\n",
    "    new_list.pop()\n",
    "    return new_list"
   ]
  },
  {
   "cell_type": "code",
   "execution_count": null,
   "metadata": {},
   "outputs": [],
   "source": [
    "names = ['Ryan', 'Juan', 'Xiaomeng']\n",
    "new_names = remove_last_from_list_pure(names)\n",
    "print(names)\n",
    "print(new_names)"
   ]
  },
  {
   "cell_type": "markdown",
   "metadata": {},
   "source": [
    "### Namespaces\n",
    "\n",
    "In python, a [namespace](https://docs.python.org/3/tutorial/classes.html#python-scopes-and-namespaces) is a mapping between variable names and Python objects. You can think of it like a dictionary.\n",
    "\n",
    "The namespace can change depending on where you are in your program. Functions can \"see\" the variables in the parent namespace, but they can also redefine them in a private scope. These redefined variables do not change the variable in the parent namespace."
   ]
  },
  {
   "cell_type": "code",
   "execution_count": null,
   "metadata": {},
   "outputs": [],
   "source": [
    "name = 'Ryan'\n",
    "\n",
    "def print_name():\n",
    "    print(name)\n",
    "\n",
    "def print_name_v2():\n",
    "    name = 'Kerry'\n",
    "    print(name)\n",
    "    \n",
    "print_name()\n",
    "print_name_v2()\n",
    "print(name)"
   ]
  },
  {
   "cell_type": "markdown",
   "metadata": {},
   "source": [
    "### A more complex function: Fibonacci Sequence\n",
    "\n",
    "The Fibonacci sequence is the 1,1,2,3,5,8..., the sum of each number with the preceding one. Write a function to compute the Fibonacci sequence of length n. (Hint, use some list methods.)"
   ]
  },
  {
   "cell_type": "code",
   "execution_count": null,
   "metadata": {},
   "outputs": [],
   "source": [
    "def fib(n):\n",
    "    l = [1,1]\n",
    "    for i in range(n-2):\n",
    "        l.append(l[-1] + l[-2])\n",
    "    return l"
   ]
  },
  {
   "cell_type": "code",
   "execution_count": null,
   "metadata": {},
   "outputs": [],
   "source": [
    "fib(10)"
   ]
  },
  {
   "cell_type": "markdown",
   "metadata": {},
   "source": [
    "## Classes\n",
    "\n",
    "We have worked with many different types of Python objects so far: strings, lists, dictionaries, etc. These objects have different attributes and respond in different ways to the built-in functions (`len`, etc.)\n",
    "\n",
    "_How can we make our own, custom objects?_ Answer: by defining classes.\n",
    "\n",
    "### A class to represent a hurricane"
   ]
  },
  {
   "cell_type": "code",
   "execution_count": null,
   "metadata": {},
   "outputs": [],
   "source": [
    "class Hurricane:\n",
    "    \n",
    "    def __init__(self, name):\n",
    "        self.name = name"
   ]
  },
  {
   "cell_type": "code",
   "execution_count": null,
   "metadata": {},
   "outputs": [],
   "source": [
    "h = Hurricane('florence')\n",
    "h"
   ]
  },
  {
   "cell_type": "markdown",
   "metadata": {},
   "source": [
    "Our class only has a single attribute so far:"
   ]
  },
  {
   "cell_type": "code",
   "execution_count": null,
   "metadata": {},
   "outputs": [],
   "source": [
    "h.name"
   ]
  },
  {
   "cell_type": "markdown",
   "metadata": {},
   "source": [
    "Let's add an attribute for the hurricane category, along with some input validation for the longitude:"
   ]
  },
  {
   "cell_type": "code",
   "execution_count": null,
   "metadata": {},
   "outputs": [],
   "source": [
    "class Hurricane:\n",
    "    \n",
    "    def __init__(self, name, category, lon):\n",
    "        self.name = name.upper()\n",
    "        self.category = int(category)\n",
    "        \n",
    "        if lon > 180 or lon < -180:\n",
    "            raise ValueError(f'Invalid lon {lon}')\n",
    "        self.lon = lon\n",
    "        "
   ]
  },
  {
   "cell_type": "code",
   "execution_count": null,
   "metadata": {},
   "outputs": [],
   "source": [
    "h = Hurricane('florence', 4, -46)\n",
    "h"
   ]
  },
  {
   "cell_type": "code",
   "execution_count": null,
   "metadata": {},
   "outputs": [],
   "source": [
    "h.name"
   ]
  },
  {
   "cell_type": "code",
   "execution_count": null,
   "metadata": {},
   "outputs": [],
   "source": [
    "h = Hurricane('ryan', 5, 300)"
   ]
  },
  {
   "cell_type": "markdown",
   "metadata": {},
   "source": [
    "Now let's add a custom method:"
   ]
  },
  {
   "cell_type": "code",
   "execution_count": null,
   "metadata": {},
   "outputs": [],
   "source": [
    "class Hurricane:\n",
    "    \n",
    "    def __init__(self, name, category, lon):\n",
    "        self.name = name.upper()\n",
    "        self.category = int(category)\n",
    "        \n",
    "        if lon > 180 or lon < -180:\n",
    "            raise ValueError(f'Invalid lon {lon}')\n",
    "        self.lon = lon\n",
    "    \n",
    "    def is_dangerous(self):\n",
    "        return self.category > 1"
   ]
  },
  {
   "cell_type": "code",
   "execution_count": null,
   "metadata": {},
   "outputs": [],
   "source": [
    "f = Hurricane('florence', 4, -46)\n",
    "f.is_dangerous()"
   ]
  },
  {
   "cell_type": "markdown",
   "metadata": {},
   "source": [
    "### Magic / dunder methods\n",
    "\n",
    "We can implement special methods that begin with double-underscores (i.e. \"dunder\" methods), which allow us to customize the behavior of our classes. ([Read more here](https://www.python-course.eu/python3_magic_methods.php)). We have already learned one: `__init__`. Let's implement the `__repr__` method to make our class display something pretty."
   ]
  },
  {
   "cell_type": "code",
   "execution_count": null,
   "metadata": {},
   "outputs": [],
   "source": [
    "class Hurricane:\n",
    "    \n",
    "    def __init__(self, name, category, lon):\n",
    "        self.name = name.upper()\n",
    "        self.category = int(category)\n",
    "        \n",
    "        if lon > 180 or lon < -180:\n",
    "            raise ValueError(f'Invalid lon {lon}')\n",
    "        self.lon = lon\n",
    "        \n",
    "    def __repr__(self):\n",
    "        return f\"<Hurricane {self.name} (cat {self.category})>\"\n",
    "    \n",
    "    def is_dangerous(self):\n",
    "        return self.category > 1"
   ]
  },
  {
   "cell_type": "code",
   "execution_count": null,
   "metadata": {},
   "outputs": [],
   "source": [
    "f = Hurricane('florence', 4, -46)\n",
    "f"
   ]
  },
  {
   "cell_type": "markdown",
   "metadata": {},
   "source": [
    "## <span style=\"color:blue\">Exercises</span>\n",
    "1. Calculate the fourth power of all integers to 15 using either a `for` loop or a `while` loop."
   ]
  },
  {
   "cell_type": "code",
   "execution_count": null,
   "metadata": {},
   "outputs": [],
   "source": []
  },
  {
   "cell_type": "markdown",
   "metadata": {},
   "source": [
    "2. Create a list of the third power of all integers to 10 using a list comprehension."
   ]
  },
  {
   "cell_type": "code",
   "execution_count": null,
   "metadata": {},
   "outputs": [],
   "source": []
  },
  {
   "cell_type": "markdown",
   "metadata": {},
   "source": [
    "3. Remove the second and fifth item from the list you just created."
   ]
  },
  {
   "cell_type": "code",
   "execution_count": null,
   "metadata": {},
   "outputs": [],
   "source": []
  },
  {
   "cell_type": "markdown",
   "metadata": {},
   "source": [
    "4. Loop over all squares until 15 and only print those that are divisible (without remainder) by 3. Print the following strings `(number)^2=(number squared) is divisible by 3.` replacing the paranthesized parts."
   ]
  },
  {
   "cell_type": "code",
   "execution_count": null,
   "metadata": {},
   "outputs": [],
   "source": []
  },
  {
   "cell_type": "markdown",
   "metadata": {},
   "source": [
    "5. Print the sum of all integers up to `n` for all `n<10` and print \"Done!\" below when done."
   ]
  },
  {
   "cell_type": "code",
   "execution_count": null,
   "metadata": {},
   "outputs": [],
   "source": []
  },
  {
   "cell_type": "markdown",
   "metadata": {},
   "source": [
    "6. Invert the list `a = list(range(10,51,10))` using a loop."
   ]
  },
  {
   "cell_type": "code",
   "execution_count": null,
   "metadata": {},
   "outputs": [],
   "source": []
  },
  {
   "cell_type": "markdown",
   "metadata": {},
   "source": [
    "7. Given a string of undefined length >5, return the middle three letters."
   ]
  },
  {
   "cell_type": "code",
   "execution_count": null,
   "metadata": {},
   "outputs": [],
   "source": []
  },
  {
   "cell_type": "markdown",
   "metadata": {},
   "source": [
    "8. Given a string, exchange the first and last characters."
   ]
  },
  {
   "cell_type": "code",
   "execution_count": null,
   "metadata": {},
   "outputs": [],
   "source": []
  },
  {
   "cell_type": "markdown",
   "metadata": {},
   "source": [
    "9. Given a string with mixed capital and lower case letters and numbers, order them with lowercase letters first, numbers second, uppercase letters last. *(Hint: google built-in commands for lists that can distuingish between numbers, uppercase and lowercase letters).*"
   ]
  },
  {
   "cell_type": "code",
   "execution_count": null,
   "metadata": {},
   "outputs": [],
   "source": []
  },
  {
   "cell_type": "markdown",
   "metadata": {},
   "source": [
    "10. Given the list `list1 = [5, 20, 15, 20, 25, 50, 20]`, find value 20 in the list, and if it is present, replace it with 200. Only update the first occurrence of a value."
   ]
  },
  {
   "cell_type": "code",
   "execution_count": null,
   "metadata": {},
   "outputs": [],
   "source": []
  },
  {
   "cell_type": "markdown",
   "metadata": {},
   "source": [
    "11. Create a function that can accept two arguments (name and age) and print its values."
   ]
  },
  {
   "cell_type": "code",
   "execution_count": null,
   "metadata": {},
   "outputs": [],
   "source": []
  },
  {
   "cell_type": "markdown",
   "metadata": {},
   "source": [
    "12. Write a function `func1()` such that it can accept a variable length of  an argument and print all values of the arguments on a seperate line."
   ]
  },
  {
   "cell_type": "code",
   "execution_count": null,
   "metadata": {},
   "outputs": [],
   "source": []
  },
  {
   "cell_type": "markdown",
   "metadata": {},
   "source": [
    "13. Write a function that generates a Python list of all the even numbers between a lower bound `a` and an upper bound `b`."
   ]
  },
  {
   "cell_type": "code",
   "execution_count": null,
   "metadata": {},
   "outputs": [],
   "source": []
  },
  {
   "cell_type": "markdown",
   "metadata": {},
   "source": [
    "In Python, we can create a nested function inside a function. We can use the nested function to perform complex tasks multiple times within another function or avoid loop and code duplication.\n",
    "\n",
    "14. Create an inner function to calculate the addition in the following way\n",
    "    1. Create an outer function that will accept two parameters `a` and `b`\n",
    "    2. Create an inner function inside an outer function that will calculate the addition of `a` and `b`\n",
    "    3. At last, the outer function will add 5 into addition and return it"
   ]
  },
  {
   "cell_type": "code",
   "execution_count": null,
   "metadata": {},
   "outputs": [],
   "source": []
  },
  {
   "cell_type": "markdown",
   "metadata": {},
   "source": [
    "15. Write a function that returns the largest item from a given list of numbers. Use a built-in function of Python."
   ]
  },
  {
   "cell_type": "code",
   "execution_count": null,
   "metadata": {},
   "outputs": [],
   "source": []
  }
 ],
 "metadata": {
  "kernelspec": {
   "display_name": "Python 3 (ipykernel)",
   "language": "python",
   "name": "python3"
  },
  "language_info": {
   "codemirror_mode": {
    "name": "ipython",
    "version": 3
   },
   "file_extension": ".py",
   "mimetype": "text/x-python",
   "name": "python",
   "nbconvert_exporter": "python",
   "pygments_lexer": "ipython3",
   "version": "3.11.7"
  }
 },
 "nbformat": 4,
 "nbformat_minor": 4
}
