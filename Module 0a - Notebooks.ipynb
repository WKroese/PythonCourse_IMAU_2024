{
 "cells": [
  {
   "cell_type": "markdown",
   "metadata": {},
   "source": [
    "# Introduction\n",
    "Much of this content was reused from [Earth and Environmental Data Science](https://earth-env-data-science.github.io/intro) by Ryan Abernathey which is licensed under the [Creative Commons Attribution-ShareAlike 4.0 International](https://creativecommons.org/licenses/by-sa/4.0/) (CC BY-SA 4.0) license. Also, part of this introduction if based on the Python introduction from last years of André Jüling, created under the BSD 3-Clause License (https://github.com/AJueling/python_climate_physics), and Janneke Krabbendam."
   ]
  },
  {
   "cell_type": "markdown",
   "metadata": {},
   "source": [
    "### Invoking Python ##\n",
    "\n",
    "There are several versions of Python. Here, we will be working in Python 3. There are some differences between versions 2 and 3 (see e.g. https://sebastianraschka.com/Articles/2014_python_2_3_key_diff.html). Keep this in mind if you look up tips on the internet or if you use someone else's code.\n",
    "\n",
    "There are three main ways to use Python.\n",
    "\n",
    "1. By running a python file, e.g. `python myscript.py`\n",
    "1. Through an interactive console (python interpreter or ipython shell)\n",
    "1. In an interactive notebook (e.g. Jupyter)\n",
    "\n",
    "In this course, we will use Jupyter Notebooks from the Anaconda package.\n",
    "\n",
    "### Jupyter Notebook ##\n",
    "\n",
    "Jupyter Notebook is an interactive computing environment, through which you are able to write and run Python code. The advantages of this environment are the possibility of interactively writing and running code, and integrating code and text elements in the same document (markdown). The content of a Notebook is grouped into cells that can be executed independently.\n",
    "\n",
    "Notebook files (`.ipynb`) are human-readable text files, but they need to be opened with a program that can connect it to an active Python kernel, such as the `Jupyterlab` app or the Jupyter `Notebook` app. Some text editors, such as `vscode`, can also work with notebooks.\n",
    "\n",
    "You can start those either in the terminal (MacOS/Linux) or the Anaconda prompt (Windows) with the commands `jupyterlab` or `jupyter notebook`.\n",
    "Alternatively, if you installed Anaconda, you can use their graphical user interface, the Anaconda Navigator.\n",
    "\n",
    "### Notebook modes\n",
    "Jupyter Notebook has a modal user interface.\n",
    "This means that the keyboard does different things depending on which mode the Notebook is in. The colobar to the left of the cells will change color, depending on which mode we are in.\n",
    "There are two modes: __Edit mode__ and __Command mode__.\n",
    "\n",
    "1. __Edit mode__: type into the cells like a normal text editor (and you will see a blinking cursor). Color = green.\n",
    "1. __Command mode__: allows you to edit the notebook as a whole, but not type into individual cells. Color = blue.\n",
    "\n",
    "You can swith from __edit__ to __command__ by pressing `Esc`, and return to edit mode by pressing `Enter` or double clicking on a cell. \n",
    "\n",
    "### Cell types\n",
    "There are three cell types. You can change the type either via the menu in the top or via one of the shortcuts listed below.\n",
    "\n",
    "1. __Markdown cells__: cells in which you write text just like I've done here. You can also use LaTeX to write equations, for example $A_{circle} = \\pi R^2$\n",
    "1. __Code cells__: cells in which your interactive code is written (the actual Python code)\n",
    "1. __Raw code__: if you want to transfer to another language later, we will not really use this\n",
    "\n",
    "\n",
    "### Handy shortcuts\n",
    "In principle, you can execute cells and navigate the notebook by using the graphical user interface, but there are several handy shortcuts (in edit and command mode):\n",
    "1. `Ctrl+Enter`: execute cell and stay in the current one\n",
    "1. `Shift+Enter`: execute cell and move to the one below (in command mode):\n",
    "1. `a` or `b`: creates a new cell above/below the current one\n",
    "1. `dd` (d twice): deletes cell\n",
    "1. `z`: undo\n",
    "1. `m` or `r` or `y`: changes cell to markdown/raw/code respectively\n",
    "\n",
    "\n",
    "### Basic Unix commands\n",
    "The following commands are Unix commands that also work in Notebook. These may be especially useful if you want to import data later.\n",
    "1. `pwd` \"print working directory\" prints the path you are corrently located\n",
    "1. `ls` \"lists\" all files and folder in current location\n",
    "1. `cd` name/of/folder changes location to name/of/folder, `..` means one level up, `../..` means two levels up, and so on\n",
    "1. `mkdir` newfolder \"make directory\" creates newfolder in current location\n",
    "\n",
    "## <span style=\"color:blue\">Exercises</span>\n",
    "1. Create an empty cell below using the shortcuts.\n",
    "2. Use the new empty code cell below as a fancy calculator to compute 1+1.\n",
    "3. Create cell above with the shortcuts.\n",
    "4. Make the cell a __Markdown Cell__ and write 'Fancy calculator'\n",
    "4. Delete a cell."
   ]
  }
 ],
 "metadata": {
  "kernelspec": {
   "display_name": "Python 3 (ipykernel)",
   "language": "python",
   "name": "python3"
  },
  "language_info": {
   "codemirror_mode": {
    "name": "ipython",
    "version": 3
   },
   "file_extension": ".py",
   "mimetype": "text/x-python",
   "name": "python",
   "nbconvert_exporter": "python",
   "pygments_lexer": "ipython3",
   "version": "3.11.7"
  }
 },
 "nbformat": 4,
 "nbformat_minor": 4
}
