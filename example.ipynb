{
 "cells": [
  {
   "cell_type": "code",
   "execution_count": 1,
   "metadata": {},
   "outputs": [],
   "source": [
    "import numpy as np"
   ]
  },
  {
   "cell_type": "markdown",
   "metadata": {},
   "source": [
    "#### The August–Roche–Magnus formula: atmospheric approximation of the Clausius-Clapeyron relation\n",
    "![alt text](<Screenshot 2024-09-20 at 12.04.20.png>)"
   ]
  },
  {
   "cell_type": "code",
   "execution_count": 14,
   "metadata": {},
   "outputs": [
    {
     "name": "stdout",
     "output_type": "stream",
     "text": [
      "for T =25, e_s= 100681.32170543664\n"
     ]
    }
   ],
   "source": [
    "T = 25 #C\n",
    "e_s = 6.1094 * np.exp(17.625 * (T+273.15) / ((T+273.15) + 243.04))\n",
    "print('for T =25, e_s=',e_s)"
   ]
  },
  {
   "cell_type": "code",
   "execution_count": 12,
   "metadata": {},
   "outputs": [
    {
     "name": "stdout",
     "output_type": "stream",
     "text": [
      "for T =25, e_s= 100681.32170543664\n"
     ]
    }
   ],
   "source": [
    "T = 25 #C\n",
    "e_s = 6.1094 * np.exp(17.625 * (T+273.15) / ((T+273.15) + 243.04))\n",
    "print('for T =25, e_s=',e_s)"
   ]
  },
  {
   "cell_type": "code",
   "execution_count": 4,
   "metadata": {},
   "outputs": [],
   "source": [
    "def clausius_clapeyron(T):\n",
    "    '''input: temperature in (K)\n",
    "       output: saturation vapor pressure in (hPa)'''\n",
    "    return 6.1094 * np.exp(17.625 * T / (T + 243.04))"
   ]
  },
  {
   "cell_type": "code",
   "execution_count": 5,
   "metadata": {},
   "outputs": [
    {
     "name": "stdout",
     "output_type": "stream",
     "text": [
      "86743.29343409656 100681.32170543664\n"
     ]
    }
   ],
   "source": [
    "print(clausius_clapeyron(15+273.15), clausius_clapeyron(25+273.15))"
   ]
  },
  {
   "cell_type": "code",
   "execution_count": 8,
   "metadata": {},
   "outputs": [],
   "source": [
    "def clausius_clapeyron(T,unit='K'):\n",
    "    '''input: \n",
    "            temperature in (K) or (C)\n",
    "            unit: string specifying the unit: 'K' or 'C'\n",
    "       output: \n",
    "            saturation vapor pressure in (hPa)'''\n",
    "    if unit == 'K': \n",
    "        return 6.1094 * np.exp(17.625 * T / (T + 243.04))\n",
    "    elif unit == 'C':\n",
    "        return 6.1094 * np.exp(17.625 * (T+273.15) / ((T+273.15) + 243.04))\n",
    "    else:\n",
    "        print('unit not recognized')"
   ]
  },
  {
   "cell_type": "code",
   "execution_count": 10,
   "metadata": {},
   "outputs": [
    {
     "name": "stdout",
     "output_type": "stream",
     "text": [
      "86743.29343409656 100681.32170543664\n",
      "86743.29343409656 100681.32170543664\n"
     ]
    }
   ],
   "source": [
    "print(clausius_clapeyron(15,'C'), clausius_clapeyron(25,'C'))\n",
    "print(clausius_clapeyron(15+273.15), clausius_clapeyron(25+273.15))"
   ]
  },
  {
   "cell_type": "code",
   "execution_count": null,
   "metadata": {},
   "outputs": [],
   "source": []
  }
 ],
 "metadata": {
  "kernelspec": {
   "display_name": "Python 3",
   "language": "python",
   "name": "python3"
  },
  "language_info": {
   "codemirror_mode": {
    "name": "ipython",
    "version": 3
   },
   "file_extension": ".py",
   "mimetype": "text/x-python",
   "name": "python",
   "nbconvert_exporter": "python",
   "pygments_lexer": "ipython3",
   "version": "3.11.8"
  }
 },
 "nbformat": 4,
 "nbformat_minor": 2
}
