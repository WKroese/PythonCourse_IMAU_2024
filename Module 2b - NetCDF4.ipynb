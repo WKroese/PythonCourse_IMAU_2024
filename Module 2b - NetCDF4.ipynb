{
 "cells": [
  {
   "cell_type": "markdown",
   "id": "2f130a76",
   "metadata": {},
   "source": [
    "# Workshop 2 b) NetCDF4\n",
    "\n",
    "In climate science we often find ourselves with __gridded (array) data__, often in up to 4 dimensions: (latitude, longitude, height/depth/pressure, time). This can be model output, but also observed data. These datasets can be huge, for example, the monthly output of the high resolution Community Earth System Model is some 50 GB and that is for the ocean only!\n",
    "\n",
    "Apart from the data, e.g. temperatures, we also need to keep track of their locations and record other kinds of metadata. netCDF can store all of this information in a single, standardized file.\n",
    "\n",
    "Below we quote from the [NetCDF website](https://www.unidata.ucar.edu/software/netcdf/docs/faq.html#whatisit):\n",
    "\n",
    ">NetCDF (network Common Data Form) is a set of interfaces for array-oriented data access and a freely distributed collection of data access libraries for C, Fortran, C++, Java, and other languages. The netCDF libraries support a machine-independent format for representing scientific data. Together, the interfaces, libraries, and format support the creation, access, and sharing of scientific data.\n",
    ">\n",
    ">NetCDF data is:\n",
    ">\n",
    "> - Self-Describing. A netCDF file includes information about the data it contains.\n",
    "> - Portable. A netCDF file can be accessed by computers with different ways of storing integers, characters, and floating-point numbers.\n",
    "> - Scalable. A small subset of a large dataset may be accessed efficiently.\n",
    "> - Appendable. Data may be appended to a properly structured netCDF file without copying the dataset or redefining its structure.\n",
    "> - Sharable. One writer and multiple readers may simultaneously access the same netCDF file.\n",
    "> - Archivable. Access to all earlier forms of netCDF data will be supported by current and future versions of the software.\n",
    "\n",
    "The second part of this third tutorial will focus on working with the package `netCDF4`. This is based on the [NetCDF4 documentation](https://unidata.github.io/netcdf4-python/). You can use this package to __read and write NetCDF files__, but has no built in computations such as Pandas had. Here, we will focus on reading them only, which you will use most often.\n",
    "\n",
    "`import netCDF4 as nc`\n",
    "\n",
    "You can check wether netCDF4 is alreay installed on your pc with the command\n",
    "\n",
    "`conda list`\n",
    "\n",
    "This gives an overview of all the packages that are installed. If you don't have pandas yet, install it with\n",
    "\n",
    "`conda install netCDF4` or `pip install netCDF4` \n",
    "\n",
    "You can do this directly in the Notebook or in the terminal."
   ]
  },
  {
   "cell_type": "code",
   "execution_count": null,
   "id": "6b225b11",
   "metadata": {},
   "outputs": [],
   "source": [
    "import numpy as np\n",
    "import netCDF4 as nc\n",
    "from matplotlib import pyplot as plt\n",
    "%matplotlib inline"
   ]
  },
  {
   "cell_type": "markdown",
   "id": "d8da79a7",
   "metadata": {},
   "source": [
    "As an example, we will use modelled wind from the KNMI, retrieved from: https://dataplatform.knmi.nl/dataset/dowa-netcdf-ts-singlepoint-upd-1 . Specifically, this is part of the Dutch Offshore Wind Atlas (DOWA), which contains output from the weather model HARMONIE-AROME, which is nested in re-analyses ERA5. The NetCDF contains the output at one single location for the year 2018."
   ]
  },
  {
   "cell_type": "code",
   "execution_count": null,
   "id": "00ec6f54",
   "metadata": {},
   "outputs": [],
   "source": [
    "winddata = nc.Dataset('data/DOWA_40h12tg2_fERA5_NETHERLANDS.NL_ix001_iy001_2018010100-2019010100_v1.0.nc')"
   ]
  },
  {
   "cell_type": "markdown",
   "id": "7244ceea",
   "metadata": {},
   "source": [
    "Data in a NetCDF file is organised in `variables`. With these variables, a description of what is in the file is provided, such as the dimensions of the arrays and the units. These descriptions are called `attributes`. You can investigate the variables in a file use `file.variables`."
   ]
  },
  {
   "cell_type": "code",
   "execution_count": null,
   "id": "bfef90f9",
   "metadata": {},
   "outputs": [],
   "source": [
    "winddata.variables"
   ]
  },
  {
   "cell_type": "markdown",
   "id": "3392ec80",
   "metadata": {},
   "source": [
    "In order to do computations with the data in this file, we want to extract the variables. We do this with the following code `winddata.variables['lon'][:]`. The `[:]` is necessary to go from a variable structure to an array and the `:` means that we want all the entries in this array."
   ]
  },
  {
   "cell_type": "code",
   "execution_count": null,
   "id": "70516f59",
   "metadata": {},
   "outputs": [],
   "source": [
    "longitude = winddata.variables['lon'][:]\n",
    "latitude = winddata.variables['lat'][:]\n",
    "time = winddata.variables['time'][:]"
   ]
  },
  {
   "cell_type": "code",
   "execution_count": null,
   "id": "9323d1c5",
   "metadata": {},
   "outputs": [],
   "source": [
    "#This is equivalent to the cell above\n",
    "longitude = winddata['lon'][:]\n",
    "latitude = winddata['lat'][:]\n",
    "time = winddata['time'][:]"
   ]
  },
  {
   "cell_type": "markdown",
   "id": "4fe1f1d9",
   "metadata": {},
   "source": [
    "# Exercises\n",
    "\n",
    "1. At what heights is the wind measured?"
   ]
  },
  {
   "cell_type": "code",
   "execution_count": null,
   "id": "67feb09b",
   "metadata": {},
   "outputs": [],
   "source": []
  },
  {
   "cell_type": "markdown",
   "id": "9be0bcb0",
   "metadata": {},
   "source": [
    "2. Plot the wind speed at 100 m as a function time. Add the units of time in the axis labels. Hint: you may need to use the command `np.squeeze`."
   ]
  },
  {
   "cell_type": "code",
   "execution_count": null,
   "id": "15a3800a",
   "metadata": {},
   "outputs": [],
   "source": []
  },
  {
   "cell_type": "markdown",
   "id": "9d009d63",
   "metadata": {},
   "source": [
    "3. Create a scatter plot of the wind direction at 150 m height as a function of time."
   ]
  },
  {
   "cell_type": "code",
   "execution_count": null,
   "id": "9a1c4cc6",
   "metadata": {},
   "outputs": [],
   "source": []
  },
  {
   "cell_type": "markdown",
   "id": "bc5e7270",
   "metadata": {},
   "source": [
    "4. Print the time-averaged temperature at each height."
   ]
  },
  {
   "cell_type": "code",
   "execution_count": null,
   "id": "e06cdfed",
   "metadata": {},
   "outputs": [],
   "source": []
  },
  {
   "cell_type": "markdown",
   "id": "5cc1eebc",
   "metadata": {},
   "source": [
    "5. Create a contourplot of the pressure as a function of time and height."
   ]
  },
  {
   "cell_type": "code",
   "execution_count": null,
   "id": "f5d6086e",
   "metadata": {},
   "outputs": [],
   "source": []
  }
 ],
 "metadata": {
  "kernelspec": {
   "display_name": "Python 3",
   "language": "python",
   "name": "python3"
  },
  "language_info": {
   "codemirror_mode": {
    "name": "ipython",
    "version": 3
   },
   "file_extension": ".py",
   "mimetype": "text/x-python",
   "name": "python",
   "nbconvert_exporter": "python",
   "pygments_lexer": "ipython3",
   "version": "3.11.8"
  }
 },
 "nbformat": 4,
 "nbformat_minor": 5
}
