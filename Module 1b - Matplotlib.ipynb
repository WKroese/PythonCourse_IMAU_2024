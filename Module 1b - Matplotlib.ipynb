{
 "cells": [
  {
   "cell_type": "markdown",
   "metadata": {},
   "source": [
    "# Workshop 2 b - Matplotlib \n",
    "Part of this tutorial is based on the NumPy and Matplotlib documentation (https://numpy.org/doc/stable/ and https://matplotlib.org/stable/contents.html). Also, part of this tutorial is based on notebooks from André Jüling, created under the BSD 3-Clause License, and Janneke Krabbendam.\n",
    "\n",
    "We just learned how to create and manipulate arrays with NumPy.\n",
    "At this point you might be getting curious what these arrays \"look\" like. So we need to introduce some way to visualize data. Matplotlib is the standard Python plotting library. It has a lot of options, we will walk through some of them, so you get an idea of what is possible, but just remember that a lot more is possible!\n",
    "\n",
    "For an overview of all kinds of plots you can make with Matplotlib , for example, scatter plots, bar charts, histograms, ... check out their excellent gallery: \n",
    "[Matplotlib Gallery link](https://matplotlib.org/gallery/index.html)"
   ]
  },
  {
   "cell_type": "code",
   "execution_count": null,
   "metadata": {},
   "outputs": [],
   "source": [
    "import numpy as np\n",
    "from matplotlib import pyplot as plt\n",
    "# import matplotlib.pyplot as plt # this is the same\n",
    "\n",
    "%matplotlib inline\n",
    "# this is necessary to see plots in the cell output field"
   ]
  },
  {
   "cell_type": "markdown",
   "metadata": {},
   "source": [
    "Here you see a different way of importing packages `from [] import [] as []`, this is useful of you want to use a certain module only. The `pyplot` of `matplotlib` module covers all out basic plotting needs."
   ]
  },
  {
   "cell_type": "code",
   "execution_count": null,
   "metadata": {},
   "outputs": [],
   "source": [
    "# recreate arrays we left with in the previous notebook\n",
    "x = np.linspace(-2*np.pi, 2*np.pi, 100)\n",
    "y = np.linspace(-np.pi, np.pi, 50)\n",
    "xx, yy = np.meshgrid(x, y)\n",
    "xx.shape, yy.shape\n",
    "f = np.sin(xx) * np.cos(0.5*yy)\n",
    "g = f * x\n",
    "\n",
    "# apply on just one axis\n",
    "g_ymean = g.mean(axis=0)\n",
    "g_xmean = g.mean(axis=1)"
   ]
  },
  {
   "cell_type": "markdown",
   "metadata": {},
   "source": [
    "# 1D plots: lines and scatters\n",
    "We start with 1D plots, i.e. lines and scatter plots. Line plots are made with the command `plt.plot(x,y)` and scatter plots with `plt.scatter(x,y)`. It is important that `x` and `y` are arrays with the same length. There are many options to 'style' your plot with axes labels, titles, colours, symbols etc."
   ]
  },
  {
   "cell_type": "code",
   "execution_count": null,
   "metadata": {},
   "outputs": [],
   "source": [
    "# basic plot\n",
    "plt.plot(x,g_ymean)"
   ]
  },
  {
   "cell_type": "code",
   "execution_count": null,
   "metadata": {},
   "outputs": [],
   "source": [
    "# why do we get an error here?\n",
    "plt.plot(x,g_xmean)"
   ]
  },
  {
   "cell_type": "code",
   "execution_count": null,
   "metadata": {},
   "outputs": [],
   "source": [
    "# styling your plot\n",
    "plt.plot(x,g_ymean,'r') # plot in red\n",
    "plt.xlabel('x')  # label x-axis\n",
    "plt.ylabel('mean(g)') # label y-axis\n",
    "plt.title('Here you put a title') # title\n",
    "plt.grid() # grid lines"
   ]
  },
  {
   "cell_type": "markdown",
   "metadata": {},
   "source": [
    "### Colors\n",
    "There is a range of named colors in matplotlib:\n",
    "\n",
    "- b: blue\n",
    "- g: green\n",
    "- r: red\n",
    "- c: cyan\n",
    "- m: magenta\n",
    "- y: yellow\n",
    "- k: black\n",
    "- w: white\n",
    "\n",
    "If you don't specify a colour yourself, Python will give it a colour itself, and it will become different if you put multiple lines in one plot. Below we have an example of plots with multiple lines, you can add a label to each line, these will show up if you add a legend `plt.legend()`"
   ]
  },
  {
   "cell_type": "code",
   "execution_count": null,
   "metadata": {},
   "outputs": [],
   "source": [
    "plt.plot(x,g_ymean,label='mean(g)') # add labels to multiple lines in one plot\n",
    "plt.plot(x,g_ymean*2,label='2*mean(g)') \n",
    "plt.legend() # to make the labels visible, \n",
    "plt.xlabel('x')  # label x-axis\n",
    "plt.ylabel('mean(g)') # label y-axis\n",
    "plt.title('Here you put a title') # title\n",
    "plt.grid() # grid lines"
   ]
  },
  {
   "cell_type": "markdown",
   "metadata": {},
   "source": [
    "Except for the color, you can also change the linestyle and the linewidth:"
   ]
  },
  {
   "cell_type": "code",
   "execution_count": null,
   "metadata": {},
   "outputs": [],
   "source": [
    "plt.plot(x,g_ymean,':r',label='mean(g)') # add labels to multiple lines in one plot\n",
    "plt.plot(x,g_ymean*2,'b',linestyle='--',linewidth=2,label='2*mean(g)') \n",
    "plt.legend() # to make the labels visible, \n",
    "plt.xlabel('x')  # label x-axis\n",
    "plt.ylabel('mean(g)') # label y-axis\n",
    "plt.title('Here you put a title') # title\n",
    "plt.grid() # grid lines"
   ]
  },
  {
   "cell_type": "markdown",
   "metadata": {},
   "source": [
    "The same characteristics hold for scatter-plots. But here you can also change the markers, markercolors and markersize. Some examples are shown below and take a look at all the possible markers [all the possible markers](https://matplotlib.org/api/markers_api.html) available in Matplotlib!"
   ]
  },
  {
   "cell_type": "code",
   "execution_count": null,
   "metadata": {},
   "outputs": [],
   "source": [
    "# basic scatter plot\n",
    "plt.scatter(x,g_ymean)\n",
    "plt.xlabel('x')  # label x-axis\n",
    "plt.ylabel('mean(g)') # label y-axis\n",
    "plt.title('Here you put a title') # title\n",
    "plt.grid() # grid lines"
   ]
  },
  {
   "cell_type": "code",
   "execution_count": null,
   "metadata": {},
   "outputs": [],
   "source": [
    "# styled scatter plot\n",
    "plt.scatter(x,g_ymean,30,'r','d',label='mean(g)')\n",
    "plt.scatter(x,g_ymean*2,100,'b','x',label='2*mean(g)') \n",
    "plt.legend(ncol=2)\n",
    "plt.xlabel('x')  # label x-axis\n",
    "plt.ylabel('mean(g)') # label y-axis\n",
    "plt.title('Here you put a title') # title\n",
    "plt.grid() # grid lines"
   ]
  },
  {
   "cell_type": "markdown",
   "metadata": {},
   "source": [
    "Sometimes you want to focus on a certain part of a plot. Then you can specify the limits of the axis with `plt.xlim(lower,upper)` and `plt.ylim(lower,upper)`. An example of this is shown below."
   ]
  },
  {
   "cell_type": "code",
   "execution_count": null,
   "metadata": {},
   "outputs": [],
   "source": [
    "# styled scatter plot\n",
    "plt.scatter(x,g_ymean,30,'r','d',label='mean(g)')\n",
    "plt.scatter(x,g_ymean*2,100,'b','x',label='2*mean(g)') \n",
    "plt.legend(ncol=2)\n",
    "plt.xlim(-3,3) # set limits to x-axis\n",
    "plt.ylim(-2,2)\n",
    "plt.xlabel('x')  # label x-axis\n",
    "plt.ylabel('mean(g)') # label y-axis\n",
    "plt.title('Here you put a title') # title\n",
    "plt.grid() # grid lines"
   ]
  },
  {
   "cell_type": "markdown",
   "metadata": {},
   "source": [
    "You can manually adjust the axes by changing the amount of ticks with `plt.xticks` and `plt.yticks`. Here you can also change the labels of the ticks. An example is given below:"
   ]
  },
  {
   "cell_type": "code",
   "execution_count": null,
   "metadata": {},
   "outputs": [],
   "source": [
    "# styled scatter plot\n",
    "plt.scatter(x,g_ymean,30,'r','d',label='mean(g)')\n",
    "plt.scatter(x,g_ymean*2,100,'b','x',label='2*mean(g)') \n",
    "plt.xticks([-3,0,3])\n",
    "plt.yticks([-2,0,2],labels=['a','b','c'])\n",
    "plt.legend(ncol=2)\n",
    "plt.xlim(-3,3) # set limits to x-axis\n",
    "plt.ylim(-2,2)\n",
    "plt.xlabel('x')  # label x-axis\n",
    "plt.ylabel('mean(g)') # label y-axis\n",
    "plt.title('Here you put a title') # title\n",
    "plt.grid() # grid lines"
   ]
  },
  {
   "cell_type": "markdown",
   "metadata": {},
   "source": [
    "You can also adjust the fontsize of all the text in the plot. This might be necessary to make labels large enough to read. An example is shown below."
   ]
  },
  {
   "cell_type": "code",
   "execution_count": null,
   "metadata": {},
   "outputs": [],
   "source": [
    "# styled scatter plot\n",
    "plt.scatter(x,g_ymean,30,'r','d',label='mean(g)')\n",
    "plt.scatter(x,g_ymean*2,100,'b','x',label='2*mean(g)') \n",
    "plt.xticks([-3,0,3],fontsize=20)\n",
    "plt.yticks([-2,0,2],labels=['a','b','c'],fontsize=20)\n",
    "plt.legend(ncol=2,fontsize=16)\n",
    "plt.xlim(-3,3) # set limits to x-axis\n",
    "plt.ylim(-2,2)\n",
    "plt.xlabel('x',fontsize=24)  # label x-axis\n",
    "plt.ylabel('mean(g)',fontsize=24) # label y-axis\n",
    "plt.title('Here you put a title',fontsize=30) # title\n",
    "plt.grid() # grid lines"
   ]
  },
  {
   "cell_type": "markdown",
   "metadata": {},
   "source": [
    "## 2D plots: contourplots\n",
    "\n",
    "Often our data has more than one dimension and we can visualize this by contourplots. There are several ways to do this, we will discuss a few options here. We will also discuss colorbars, different colormaps etcetera.\n",
    "\n",
    "- __contourlines (not filled)__ = `plt.contour`\n",
    "- __filled contourlines__ = `plt.pcolormesh, plt.contourf, plt.pcolor`. All of these functions determine isolines, between which the colour is the same. The output of these commands looks almost the same, but there are differences in how they handle data and how they determine the isolines. `plt.pcolormesh` is usually the most efficient, so that is usually a safe options. Here, some of the [differences](https://matplotlib.org/3.1.1/api/_as_gen/matplotlib.pyplot.pcolormesh.html#differences-pcolor-pcolormesh) are discussed. \n",
    "\n",
    "All of these commands use input of the type `(x,y,z)`, where `x` and `y` are the grid and `z` is the value at each gridpoint. Note that the shapes of need `(x,y,z)` to be the same. You don't necessarily have to specify `x` and `y`. If you don't do that, the axis don't have units, but just show the amount of elements in `z` in each direction.\n",
    "\n",
    "If you want to highlight certain contourlines, it is best to use plt.contour and plt.contourf together, because they are the most similar in how they handle data and isolines. Another advantage of `plt.contourf` is that you can easily adjust the amount of levels (the amount of isolines). Of course, the more isolines you add, the slower the code becomes."
   ]
  },
  {
   "cell_type": "code",
   "execution_count": null,
   "metadata": {},
   "outputs": [],
   "source": [
    "plt.contour(xx,yy,f)\n",
    "plt.xlabel('x')\n",
    "plt.ylabel('y')\n",
    "plt.title('Title')\n",
    "plt.colorbar(label='f')"
   ]
  },
  {
   "cell_type": "code",
   "execution_count": null,
   "metadata": {},
   "outputs": [],
   "source": [
    "plt.pcolormesh(xx,yy,f)\n",
    "plt.xlabel('x')\n",
    "plt.ylabel('y')\n",
    "plt.title('Title')\n",
    "plt.colorbar(label='f') # colorbar + label\n"
   ]
  },
  {
   "cell_type": "code",
   "execution_count": null,
   "metadata": {},
   "outputs": [],
   "source": [
    "plt.contourf(xx,yy,f)\n",
    "plt.xlabel('x')\n",
    "plt.ylabel('y')\n",
    "plt.title('Title')\n",
    "plt.colorbar(label='f')"
   ]
  },
  {
   "cell_type": "code",
   "execution_count": null,
   "metadata": {},
   "outputs": [],
   "source": [
    "# increase the amount of levels and highlight the 0-isoline\n",
    "plt.contourf(xx,yy,f,100) # 100 isolines\n",
    "plt.colorbar(label='f') # put colorbar command before plt.contour, otherwise it doesn't show the right one\n",
    "plt.contour(xx,yy,f,levels=[0],colors='r')\n",
    "plt.xlabel('x')\n",
    "plt.ylabel('y')\n",
    "plt.title('Title')"
   ]
  },
  {
   "cell_type": "code",
   "execution_count": null,
   "metadata": {},
   "outputs": [],
   "source": [
    "# pay attention to the shapes of the input variables\n",
    "# transpose f --> we will get an error\n",
    "plt.pcolormesh(xx,yy,f.T)\n",
    "plt.xlabel('x')\n",
    "plt.ylabel('y')\n",
    "plt.colorbar(label='f')"
   ]
  },
  {
   "cell_type": "code",
   "execution_count": null,
   "metadata": {},
   "outputs": [],
   "source": [
    "# We can do this if we don't specify x and y\n",
    "# transpose f \n",
    "plt.pcolormesh(f.T)\n",
    "plt.colorbar(label='f')\n",
    "plt.title('Title')\n",
    "# now the axes don't have units, but just show the size of f"
   ]
  },
  {
   "cell_type": "markdown",
   "metadata": {},
   "source": [
    "Just as you can change the color of the lines/scatters in 1D plots, you can change the colormap in 2D plots. There are a lot of built-in colormaps available (https://matplotlib.org/stable/tutorials/colors/colormaps.html), you can also specify your own manually. Below we have given an example of the same plot with a different colormap."
   ]
  },
  {
   "cell_type": "code",
   "execution_count": null,
   "metadata": {},
   "outputs": [],
   "source": [
    "plt.pcolormesh(xx,yy,f,cmap='seismic')\n",
    "plt.xlabel('x')\n",
    "plt.ylabel('y')\n",
    "plt.title('Title')\n",
    "plt.colorbar(label='f') # colorbar + label"
   ]
  },
  {
   "cell_type": "markdown",
   "metadata": {},
   "source": [
    "# Object-oriented plotting and subplots\n",
    "We introduced Matplotlib in the previous section and used the syntax `plt.some_function()` to create and customize plots. This is called the `pyplot` style and is one of two coding styles. The second, which you will come across in examples, is the so-called object-oriented approach. For this it is important to understand how plots are represented in Matplotlib.\n",
    "\n",
    "There are two important object types in a matplotlib plot:\n",
    "1. the figure, is essentially the canvas that is drawn on\n",
    "2. the axes, represents a single plot and is where data is plotted, there can be multiple axes in a figure (don't confuse this with the word \"axis\", which refers to the x/y axis of a plot).\n",
    "\n",
    "The advantage of the object-oriented approach is that is is more explicit and can be easier to write and read when the figures become more complex.\n",
    "\n",
    "__We recommend that you use this style to create figures, even if they only contain only a single axes object, then you can easily use the object oriented coding style__\n",
    "\n",
    "This is especially useful if you make plots that consist of multiple subplots, then you can easily adjust the properties of a single subplot in a larger figure. Subplots can be made with the command `plt.subplot()`.\n",
    "\n",
    "Below we give some examples on how to use this object-oriented plotting and make subplots. "
   ]
  },
  {
   "cell_type": "code",
   "execution_count": null,
   "metadata": {},
   "outputs": [],
   "source": [
    "a = np.arange(0, 10, 0.2)\n",
    "b = np.sin(a)"
   ]
  },
  {
   "cell_type": "code",
   "execution_count": null,
   "metadata": {},
   "outputs": [],
   "source": [
    "plt.plot(a,b)\n",
    "plt.ylim((0,1))"
   ]
  },
  {
   "cell_type": "code",
   "execution_count": null,
   "metadata": {},
   "outputs": [],
   "source": [
    "# here we create a figure and one axes explicitely\n",
    "fig = plt.figure()\n",
    "ax = plt.axes()\n",
    "ax.plot(a,b)\n",
    "ax.set_ylim((-.5,.8)) # note that the ylim function is slightly different"
   ]
  },
  {
   "cell_type": "code",
   "execution_count": null,
   "metadata": {},
   "outputs": [],
   "source": [
    "# we can explicitely create an axes object and set the location\n",
    "fig = plt.figure()\n",
    "ax1 = fig.add_axes([0, 0, 0.5, 1]) # [left, bottom, width, height]\n",
    "ax2 = fig.add_axes([0.6, .1, 0.3, .8])\n",
    "ax1.plot(a,b)\n",
    "ax2.plot(a,-b)"
   ]
  },
  {
   "cell_type": "code",
   "execution_count": null,
   "metadata": {},
   "outputs": [],
   "source": [
    "# plt.subplots creates the figure and an array of axes in one line\n",
    "fig = plt.figure(figsize=(12, 6))\n",
    "axes = fig.subplots(nrows=2, ncols=3)\n",
    "axes[0,0].plot(a,b)\n",
    "axes[0,1].plot(a,a)\n",
    "axes[0,2].plot(a,-a)\n",
    "axes[1,0].plot(-b,b)\n",
    "axes[1,1].plot(b,b)\n",
    "axes[1,2].plot(a,-b)\n",
    "axes[0,0].set_xlim((0,4))    # we can change the characteristics of each subplot individually\n",
    "axes[1,2].set_ylim((-.5,.8))"
   ]
  },
  {
   "cell_type": "code",
   "execution_count": null,
   "metadata": {},
   "outputs": [],
   "source": [
    "fig, ax = plt.subplots(figsize=(12, 7))\n",
    "ax.plot(a, b)\n",
    "\n",
    "ax.set_xlabel('x')\n",
    "ax.set_ylabel('y')\n",
    "ax.set_title(r'A complicated math function: $f(x) = \\cos(x)$')\n",
    "\n",
    "ax.set_xticks(np.pi * np.array([-1, 0, 1]))\n",
    "ax.set_xticklabels([r'$-\\pi$', '0', r'$\\pi$'])\n",
    "ax.set_yticks([-1, 0, 1])\n",
    "\n",
    "ax.set_yticks(np.arange(-1, 1.1, 0.2), minor=True)\n",
    "#ax.set_xticks(np.arange(-3, 3.1, 0.2), minor=True)\n",
    "\n",
    "ax.grid(which='minor', linestyle='--')\n",
    "ax.grid(which='major', linewidth=2)"
   ]
  },
  {
   "cell_type": "markdown",
   "metadata": {},
   "source": [
    "Like we already mentioned, there are many more kinds of plots available which can be found in this gallery: \n",
    "### [Matplotlib Gallery link](https://matplotlib.org/gallery/index.html)\n",
    "Some important ones, that we often use in Climate Physics are quiver plots (vector plots) and plots of streamlines. Some examples are given below:"
   ]
  },
  {
   "cell_type": "code",
   "execution_count": null,
   "metadata": {},
   "outputs": [],
   "source": [
    "f, ax = plt.subplots(2, 3, figsize=(20,9))\n",
    "\n",
    "x1d = np.linspace(-2*np.pi, 2*np.pi, 100)\n",
    "y1d = np.linspace(-np.pi, np.pi, 50)\n",
    "xx, yy = np.meshgrid(x1d, y1d)\n",
    "f = np.cos(xx) * np.sin(yy)\n",
    "\n",
    "for factor in np.linspace(0.2, 1, 11):\n",
    "    ax[0,0].plot(a, factor*b)\n",
    "ax[0,1].scatter(a, b)\n",
    "ax[0,2].bar(a, b)\n",
    "ax[0,1].set_xlim((2,4))\n",
    "ax[1,0].imshow(f)\n",
    "\n",
    "\n",
    "u = -np.cos(xx) * np.cos(yy)\n",
    "v = -np.sin(xx) * np.sin(yy)\n",
    "clevels = np.arange(-1, 1, 0.2) + 0.1\n",
    "\n",
    "\n",
    "ax[1,1].contour(xx, yy, f, clevels, cmap='RdBu_r', extend='both', zorder=0)\n",
    "ax[1,1].quiver(xx[::4, ::4], yy[::4, ::4],\n",
    "           u[::4, ::4], v[::4, ::4], zorder=1)\n",
    "ax[1,2].streamplot(xx, yy, u, v, density=2, color=(u**2 + v**2))"
   ]
  },
  {
   "cell_type": "markdown",
   "metadata": {},
   "source": [
    "## <span style=\"color:blue\">Exercises</span>\n",
    "1. Line plots: Create a figure of several lines $\\sin(x)$, $\\cos(x)$, $\\sqrt x$ for $x\\in[0,\\pi]$ using different line styles (see the plt.plot docstring). Add labels to the axes, give it a title, and create a legend."
   ]
  },
  {
   "cell_type": "code",
   "execution_count": null,
   "metadata": {},
   "outputs": [],
   "source": []
  },
  {
   "cell_type": "markdown",
   "metadata": {},
   "source": [
    "2. Create a histogram of 1000 samples of a normal distribution. Set the bin size to 0.5. Save the figure as `normal.png` using the `plt.savefig()` function.\n"
   ]
  },
  {
   "cell_type": "code",
   "execution_count": null,
   "metadata": {},
   "outputs": [],
   "source": []
  },
  {
   "cell_type": "markdown",
   "metadata": {},
   "source": [
    "3. Create a scatter plot of 1000 random data points and color them according to their angle.\n"
   ]
  },
  {
   "cell_type": "code",
   "execution_count": null,
   "metadata": {},
   "outputs": [],
   "source": []
  },
  {
   "cell_type": "markdown",
   "metadata": {},
   "source": [
    "4. Make a (filled) contour plot of $z = cos(x)-sin(y)$ for $x \\in [-2\\pi,2\\pi]$ and $y\\in[-\\pi,\\pi]$. Add a colorbar and highlight the 0-contour.\n"
   ]
  },
  {
   "cell_type": "code",
   "execution_count": null,
   "metadata": {},
   "outputs": [],
   "source": []
  },
  {
   "cell_type": "markdown",
   "metadata": {},
   "source": [
    " 5. Make a vector plot (quiver) for  $x \\in [-2\\pi,2\\pi]$ and $y\\in[-\\pi,\\pi]$ and \n",
    " $ u= \\cos(x)$ and $v=\\sin(y) $. In the background, plot in contours the magnitude:\n",
    " $\\sqrt{u^2+v^2}$ "
   ]
  },
  {
   "cell_type": "code",
   "execution_count": null,
   "metadata": {},
   "outputs": [],
   "source": []
  },
  {
   "cell_type": "markdown",
   "metadata": {},
   "source": [
    "6. Combine the plots from questions 4 and 5 into one figure with two subplots. Make sure that both subplots have a colorbar and axes labels.\n"
   ]
  },
  {
   "cell_type": "code",
   "execution_count": null,
   "metadata": {},
   "outputs": [],
   "source": []
  },
  {
   "cell_type": "markdown",
   "metadata": {},
   "source": [
    "7. Create a 2D histogram of a Normal distribution. Change the colormap.\n"
   ]
  },
  {
   "cell_type": "code",
   "execution_count": null,
   "metadata": {},
   "outputs": [],
   "source": []
  }
 ],
 "metadata": {
  "kernelspec": {
   "display_name": "Python 3",
   "language": "python",
   "name": "python3"
  },
  "language_info": {
   "codemirror_mode": {
    "name": "ipython",
    "version": 3
   },
   "file_extension": ".py",
   "mimetype": "text/x-python",
   "name": "python",
   "nbconvert_exporter": "python",
   "pygments_lexer": "ipython3",
   "version": "3.11.7"
  }
 },
 "nbformat": 4,
 "nbformat_minor": 4
}
