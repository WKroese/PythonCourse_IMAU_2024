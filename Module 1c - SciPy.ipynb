{
 "cells": [
  {
   "cell_type": "markdown",
   "metadata": {},
   "source": [
    "# Workshop 2c: SciPy\n",
    "\n",
    "This notebook is based on the notebook of André Jüling, created under the BSD 3-Clause License, and Janneke Krabbendam.\n",
    "\n",
    "This is very short introduction to Scipy, much of content here is taken from the excellent [SciPy tutorial](https://docs.scipy.org/doc/scipy/reference/tutorial/general.html).\n",
    "\n",
    "SciPy is a collection of mathematical algorithms and convenience functions built on the NumPy extension of Python. It adds significant power to the interactive Python session by providing the user with high-level commands and classes for manipulating and visualizing data.\n",
    "\n",
    "SciPy is organized into subpackages covering different scientific computing domains. These are summarized in the following table:\n",
    "\n",
    "| Subpackage | Description |\n",
    "|---| ---|\n",
    "| cluster    | Clustering algorithms |\n",
    "| constants | Physical and mathematical constants |\n",
    "| fftpack | Fast Fourier Transform routine |\n",
    "| integrate| Integration and ordinary differential equation solvers |\n",
    "| interpolate | Interpolation and smoothing splines |\n",
    "| io | Input and Output |\n",
    "| linalg | Linear algebra |\n",
    "| ndimage | N-dimensional image processing |\n",
    "| odr | Orthogonal distance regression |\n",
    "| optimize | Optimization and root-finding routines |\n",
    "| signal | Signal processing |\n",
    "| sparse | Sparse matrices and associated routines |\n",
    "| spatial | Spatial data structures and algorithms |\n",
    "| special | Special functions |\n",
    "| stats | Statistical distributions and functions |\n",
    "\n",
    "In this, very short, notebook, we will only cover two examples: interpolation and curvefitting. \n",
    "\n",
    "First, we will do some 1D-interpolation. In short, `interp1d` creates a function that approximates your original data and you can apply this function to a new array (with for example a higher or lower resolution).\n",
    "\n",
    "Then, we will do some curve-fitting. First, you have to define a function which approximately describes your data. So you have to make a guess what kind of funcion will fit your data (exponential, linear, ....). In this function, you define a few variables that will be fitted to your data with least-squares using `curve-fit`.\n",
    "\n",
    "Examples are shown below:\n",
    "\n",
    "These subpackages are called explicitly: \n"
   ]
  },
  {
   "cell_type": "code",
   "execution_count": null,
   "metadata": {},
   "outputs": [],
   "source": [
    "import numpy as np\n",
    "import matplotlib.pyplot as plt\n",
    "from scipy.interpolate import interp1d\n",
    "from scipy import optimize as optm\n",
    "\n",
    "%matplotlib inline"
   ]
  },
  {
   "cell_type": "code",
   "execution_count": null,
   "metadata": {},
   "outputs": [],
   "source": [
    "interp1d?"
   ]
  },
  {
   "cell_type": "markdown",
   "metadata": {},
   "source": [
    "# Interpolation"
   ]
  },
  {
   "cell_type": "code",
   "execution_count": null,
   "metadata": {},
   "outputs": [],
   "source": [
    "# data\n",
    "x = np.linspace(0, 10, num=11, endpoint=True)\n",
    "y = np.cos(-x**2/9.0)\n",
    "\n",
    "plt.scatter(x,y)"
   ]
  },
  {
   "cell_type": "code",
   "execution_count": null,
   "metadata": {},
   "outputs": [],
   "source": [
    "# first create a function that approximates the data that we have\n",
    "f = interp1d(x, y) # linear interpolation\n",
    "f2 = interp1d(x, y, kind='cubic') # cubic interpolation\n",
    "\n",
    "# create a new array to which we want to interpolate our original data\n",
    "xnew = np.linspace(0, 10, num=41, endpoint=True)\n",
    "\n",
    "# apply the function to this new array\n",
    "ynew = f(xnew)\n",
    "ynew2 = f2(xnew)"
   ]
  },
  {
   "cell_type": "code",
   "execution_count": null,
   "metadata": {},
   "outputs": [],
   "source": [
    "# plot the output\n",
    "plt.plot(x, y, 'o')\n",
    "plt.plot(xnew, ynew, '-')\n",
    "plt.plot(xnew, ynew2, '--')\n",
    "plt.legend(['data', 'linear', 'cubic'], loc='best')\n",
    "plt.show()\n"
   ]
  },
  {
   "cell_type": "markdown",
   "metadata": {},
   "source": [
    "# Curve-fitting"
   ]
  },
  {
   "cell_type": "code",
   "execution_count": null,
   "metadata": {},
   "outputs": [],
   "source": [
    "# function that we are going to fit to the data\n",
    "def func(x, a, b, c):\n",
    "    return a * np.exp(-b * x) + c"
   ]
  },
  {
   "cell_type": "code",
   "execution_count": null,
   "metadata": {},
   "outputs": [],
   "source": [
    "# create exponential data with random noise\n",
    "xdata = np.linspace(0, 4, 50)\n",
    "y = func(xdata, 2.5, 1.3, 0.5)\n",
    "rng = np.random.default_rng()\n",
    "y_noise = 0.2 * rng.normal(size=xdata.size)\n",
    "ydata = y + y_noise\n",
    "plt.plot(xdata, ydata, 'b-', label='data')"
   ]
  },
  {
   "cell_type": "markdown",
   "metadata": {},
   "source": [
    "We have added noise to an exponential function. Now we can use our function 'func' for the curve-fitting. \n",
    "\n",
    "The parameters that need to be determined with `curve-fit`, are `a`, `b` and `c`."
   ]
  },
  {
   "cell_type": "code",
   "execution_count": null,
   "metadata": {},
   "outputs": [],
   "source": [
    "popt, pcov = optm.curve_fit(func, xdata, ydata)\n",
    "plt.plot(xdata, ydata, 'b-', label='data')\n",
    "plt.plot(xdata, func(xdata, *popt), 'r-',label='fit: a=%5.3f, b=%5.3f, c=%5.3f' % tuple(popt))\n",
    "plt.xlabel('x')\n",
    "plt.ylabel('y')\n",
    "plt.legend()\n",
    "plt.show()\n",
    "popt # these are the best values for a, b, and c"
   ]
  },
  {
   "cell_type": "markdown",
   "metadata": {},
   "source": [
    "You can create a better fit by either giving a initial guess of the variables, or by giving bounds. These are values between which the parameters need to found."
   ]
  },
  {
   "cell_type": "code",
   "execution_count": null,
   "metadata": {},
   "outputs": [],
   "source": [
    "popt, pcov = optm.curve_fit(func, xdata, ydata, bounds=(0, [3., 1., 0.5]))\n",
    "plt.plot(xdata, ydata, 'b-', label='data')\n",
    "plt.plot(xdata, func(xdata, *popt), 'r-',label='fit: a=%5.3f, b=%5.3f, c=%5.3f' % tuple(popt))\n",
    "plt.plot(xdata, func(xdata, *popt), 'g--',label='fit: a=%5.3f, b=%5.3f, c=%5.3f' % tuple(popt))\n",
    "plt.xlabel('x')\n",
    "plt.ylabel('y')\n",
    "plt.legend()\n",
    "plt.show()"
   ]
  },
  {
   "cell_type": "markdown",
   "metadata": {},
   "source": [
    "## <span style=\"color:blue\">Exercise</span>\n",
    "This time, only a single exercise to make you familiar with the use pattern of SciPy.\n",
    "\n",
    "1. Use a SciPy function to solve a linear regression problem of the following random data:\n",
    "```\n",
    "np.random.seed(12345678)\n",
    "x = np.random.random(10)\n",
    "y = 1.6*x + np.random.random(10)\n",
    "```\n",
    "Print the slope, intercept, and $R^2$ values and make a plot.\n",
    "\n",
    "\n"
   ]
  },
  {
   "cell_type": "code",
   "execution_count": null,
   "metadata": {},
   "outputs": [],
   "source": []
  }
 ],
 "metadata": {
  "kernelspec": {
   "display_name": "Python 3",
   "language": "python",
   "name": "python3"
  },
  "language_info": {
   "codemirror_mode": {
    "name": "ipython",
    "version": 3
   },
   "file_extension": ".py",
   "mimetype": "text/x-python",
   "name": "python",
   "nbconvert_exporter": "python",
   "pygments_lexer": "ipython3",
   "version": "3.11.7"
  }
 },
 "nbformat": 4,
 "nbformat_minor": 4
}
